{
 "cells": [
  {
   "cell_type": "code",
   "execution_count": 2,
   "id": "9ee7bba5-a494-488b-b167-7d518775a4ca",
   "metadata": {},
   "outputs": [
    {
     "name": "stdout",
     "output_type": "stream",
     "text": [
      "#!/bin/bash\n",
      "#\n",
      "#SBATCH --job-name=bwa_mem_hg38_samtools_fastq_to_bam_230723\n",
      "#SBATCH --output=/home/ndo/slurm_script/slurm_out_err/bwa_mem_%j.out\n",
      "#SBATCH --error=/home/ndo/slurm_script/slurm_out_err/bwa_mem_%j.err\n",
      "#\n",
      "#SBATCH --ntasks=2\n",
      "#SBATCH --cpus-per-task=28\n",
      "#SBATCH --mem-per-cpu=4G\n",
      "\n",
      "datenow=$(date)\n",
      "echo $datenow\n",
      "echo \"\"\n",
      "srun hostname\n",
      "echo \"\"\n",
      "\n",
      "start=$(date +%s)\n",
      "echo \"start time: $start\"\n",
      "echo \"\"\n",
      "echo \"hostname: $HOSTNAME\"\n",
      "echo \"\"\n",
      "\n",
      "##################\n",
      "\n",
      "#eval \"$(conda shell.bash hook)\"\n",
      "#conda activate conda_fastqc                      ### CONDA ENVIRONMENT NAME\n",
      "#conda info\n",
      "#echo \"\"\n",
      "\n",
      "module load bwa\n",
      "module load samtools\n",
      "\n",
      "call=\"bwa\" # to get the version\n",
      "echo \"bwa version\"\n",
      "echo $call\n",
      "eval $call\n",
      "echo \"\"\n",
      "\n",
      "fastq1=$1                             ### INPUT FASTQ1\n",
      "fastq2=$2                             ### INPUT FASTQ2\n",
      "output_dir=$3                         ### OUTPUT DIRECTORY \n",
      "\n",
      "echo \"output directory: $output_dir\"\n",
      "echo \"\"\n",
      "\n",
      "out_name=$(basename $fastq1 _1.fastq)\n",
      "echo $out_name\n",
      "\n",
      "echo $output_dir$out_name.bam\n",
      "\n",
      "# bwa mem --> samtools\n",
      "\n",
      "call=$(bwa mem \\\n",
      "    -t 8 \\\n",
      "    human_reference_genome/GRCh38_latest_genomic.fa \\\n",
      "    $fastq1 $fastq2 | \\\n",
      "        samtools view -uh \\\n",
      "\t-o $output_dir$out_name.bam )   \n",
      "    \n",
      "echo $call\n",
      "eval $call\n",
      "echo \"\"\n",
      "\n",
      "echo \"mapping to ref, and sorting and indexing bam COMPLETE.\"\n",
      "echo \"\"\n",
      "    \n",
      "##################\n",
      "\n",
      "echo \"\"\n",
      "end=$(date +%s)\n",
      "echo \"end time: $end\"\n",
      "runtime_s=$(echo $(( end - start )))\n",
      "echo \"total run time(s): $runtime_s\"\n",
      "sec_per_min=60\n",
      "sec_per_hr=3600\n",
      "runtime_m=$(echo \"scale=2; $runtime_s / $sec_per_min;\" | bc)\n",
      "\n"
     ]
    }
   ],
   "source": [
    "!cat ~/mapping_script/mapping_script.txt"
   ]
  },
  {
   "cell_type": "code",
   "execution_count": 4,
   "id": "7dd48b34-9adf-43f2-a9df-cdc788a9ffd9",
   "metadata": {},
   "outputs": [
    {
     "name": "stdout",
     "output_type": "stream",
     "text": [
      "Submitted batch job 1108860\n",
      "             JOBID PARTITION     NAME     USER ST       TIME  NODES NODELIST(REASON)\n",
      "           1108858     nodes     bash      ndo  R       7:11      1 node01\n",
      "             JOBID PARTITION     NAME     USER ST       TIME  NODES NODELIST(REASON)\n",
      "           1108858     nodes     bash      ndo  R       7:22      1 node01\n",
      "             JOBID PARTITION     NAME     USER ST       TIME  NODES NODELIST(REASON)\n",
      "           1108858     nodes     bash      ndo  R       7:37      1 node01\n",
      "             JOBID PARTITION     NAME     USER ST       TIME  NODES NODELIST(REASON)\n",
      "           1108858     nodes     bash      ndo  R       8:07      1 node01\n"
     ]
    }
   ],
   "source": [
    "# submit mapping job to SLUMR HPC\n",
    "\n",
    "!sbatch mapping_script/mapping_script.txt \\\n",
    "    ./00_raw_fastq/SRR13586007_1.fastq \\\n",
    "    ./00_raw_fastq/SRR13586007_2.fastq \\\n",
    "    ./01_raw_bam/\n",
    "\n",
    "!sleep 5\n",
    "!squeue -u ndo\n",
    "!sleep 10\n",
    "!squeue -u ndo\n",
    "!sleep 15\n",
    "!squeue -u ndo\n",
    "!sleep 30\n",
    "!squeue -u ndo"
   ]
  },
  {
   "cell_type": "code",
   "execution_count": 8,
   "id": "61899d1d-0ce3-4190-8df5-f6e218146eb5",
   "metadata": {},
   "outputs": [
    {
     "name": "stdout",
     "output_type": "stream",
     "text": [
      "             JOBID PARTITION     NAME     USER ST       TIME  NODES NODELIST(REASON)\n",
      "           1108708     nodes     bash      ndo  R    2:00:36      1 node01\n",
      "           1108713     nodes bwa_mem_      ndo  R       0:48      2 node[08-09]\n"
     ]
    }
   ],
   "source": [
    "!squeue -u ndo"
   ]
  },
  {
   "cell_type": "code",
   "execution_count": 5,
   "id": "73a42c68-ef25-4889-947f-c481cee751e5",
   "metadata": {},
   "outputs": [
    {
     "name": "stdout",
     "output_type": "stream",
     "text": [
      "             JOBID PARTITION     NAME     USER ST       TIME  NODES NODELIST(REASON)\n",
      "           1108708     nodes     bash      ndo  R      36:00      1 node01\n",
      "           1108709     nodes bwa_mem_      ndo  R      28:45      2 node[08-09]\n"
     ]
    }
   ],
   "source": [
    "!squeue -u ndo"
   ]
  },
  {
   "cell_type": "code",
   "execution_count": 1,
   "id": "bf255a00-6cf6-448e-872f-dcc9dbbae6ed",
   "metadata": {},
   "outputs": [
    {
     "name": "stdout",
     "output_type": "stream",
     "text": [
      "\n",
      "CommandNotFoundError: Your shell has not been properly configured to use 'conda deactivate'.\n",
      "To initialize your shell, run\n",
      "\n",
      "    $ conda init <SHELL_NAME>\n",
      "\n",
      "Currently supported shells are:\n",
      "  - bash\n",
      "  - fish\n",
      "  - tcsh\n",
      "  - xonsh\n",
      "  - zsh\n",
      "  - powershell\n",
      "\n",
      "See 'conda init --help' for more information and options.\n",
      "\n",
      "IMPORTANT: You may need to close and restart your shell after running 'conda init'.\n",
      "\n",
      "\n"
     ]
    }
   ],
   "source": [
    "!conda deactivate\n"
   ]
  },
  {
   "cell_type": "code",
   "execution_count": null,
   "metadata": {},
   "outputs": [],
   "source": []
  },
  {
   "cell_type": "code",
   "execution_count": 25,
   "id": "650c9a11-e426-4817-adbc-ed9c3b066a4b",
   "metadata": {},
   "outputs": [
    {
     "name": "stdout",
     "output_type": "stream",
     "text": [
      "#!/bin/bash\n",
      "##\n",
      "#SBATCH --job-name=picard_sort\n",
      "#SBATCH --output=/home/ndo/slurm_script/slurm_out_err/sorted_bam_%j.out\n",
      "#SBATCH --error=/home/ndo/slurm_script/slurm_out_err/sorted_bam_%j.err\n",
      "##\n",
      "#SBATCH --ntasks=2\n",
      "#SBATCH --cpus-per-task=28\n",
      "#SBATCH --mem-per-cpu=4G\n",
      "\n",
      "bam_file=\"$1\"     #INPUT AS A BAM FILE\n",
      "input_dir=\"/home/ndo/01_raw_bam/\"\n",
      "out_dir=\"/home/ndo/02_sorted_bam/\"\n",
      "\n",
      "out_name=\"$(realpath \"${out_dir}/${bam_file}\")\"\n",
      "in_name=\"$(realpath \"${input_dir}/${bam_file}\")\"\n",
      "echo \"outname\"\n",
      "realpath \"${out_dir}/${bam_file}\"\n",
      "echo \"inname\"\n",
      "realpath \"${input_dir}/${bam_file}\"\n",
      "\n",
      "gatk\n",
      "\n",
      "call=$(gatk SortSam \\\n",
      "        --INPUT $in_name \\\n",
      "        --OUTPUT $out_name \\\n",
      "        --VERBOSITY DEBUG \\\n",
      "        --TMP_DIR /gpfs/scratch/ndo \\\n",
      "        --SORT_ORDER queryname)\n",
      "\n",
      "echo $call\n",
      "eval $call\n",
      "\n",
      "echo \"finish sorting bam file\"\n"
     ]
    }
   ],
   "source": [
    "!cat /home/ndo/picard_sort/sort_script.txt"
   ]
  },
  {
   "cell_type": "code",
   "execution_count": 31,
   "id": "e9335663-0e92-43ea-bc22-ffcc9e28973b",
   "metadata": {},
   "outputs": [
    {
     "name": "stdout",
     "output_type": "stream",
     "text": [
      "Submitted batch job 1112929\n"
     ]
    }
   ],
   "source": [
    "!sbatch /home/ndo/picard_sort/sort_script.txt \\\n",
    "        SRR13586007.bam"
   ]
  },
  {
   "cell_type": "code",
   "execution_count": 32,
   "metadata": {},
   "outputs": [
    {
     "name": "stdout",
     "output_type": "stream",
     "text": [
      "             JOBID PARTITION     NAME     USER ST       TIME  NODES NODELIST(REASON)\n",
      "           1112929     nodes picard_s      ndo  R       0:03      2 node[20-21]\n"
     ]
    }
   ],
   "source": [
    "!squeue -u ndo"
   ]
  },
  {
   "cell_type": "code",
   "execution_count": 39,
   "id": "815b501e-2761-4483-8d88-f6a018a2eca8",
   "metadata": {},
   "outputs": [
    {
     "name": "stdout",
     "output_type": "stream",
     "text": [
      "#!/bin/bash\n",
      "#\n",
      "#SBATCH --job-name=remove_dup\n",
      "#SBATCH --output=/home/ndo/slurm_script/remove_dup%j.out\n",
      "#SBATCH --error=/home/ndo/slurm_script/remove_dup%j.err\n",
      "#\n",
      "#SBATCH --ntasks=2\n",
      "#SBATCH --cpus-per-task=28\n",
      "#SBATCH --mem-per-cpu=4G\n",
      "\n",
      "bam_file=\"$1\"     #INPUT AS A BAM FILE\n",
      "input_dir=\"/home/ndo/02_sorted_bam/\"\n",
      "out_dir=\"/home/ndo/03_removedup_bam/\"\n",
      "\n",
      "out_name=\"$(realpath \"${out_dir}/${bam_file}\")\"\n",
      "in_name=\"$(realpath \"${input_dir}/${bam_file}\")\"\n",
      "echo \"outname\"\n",
      "realpath \"${out_dir}/${bam_file}\n",
      "echo \"\"\n",
      "echo \"inname\"\n",
      "realpath \"${input_dir}/${bam_file}\"\n",
      "\n",
      "# try the memmory issue\n",
      "call=$(gatk Mark\\\n",
      "      -I $in_name \\\n",
      "      -O $out_name \\\n",
      "      -M /home/ndo/removedup_script/marked_dup_metrics.txt \\\n",
      "      -REMOVE_DUPLICATES true\n",
      "      --VERBOSITY DEBUG)\n",
      "\n",
      "echo $call\n",
      "eval $call\n",
      "\n",
      "echo \"finish remove dup from bam file\""
     ]
    }
   ],
   "source": [
    "!cat /home/ndo/removedup_script/removedup_script.txt"
   ]
  },
  {
   "cell_type": "code",
   "execution_count": 43,
   "id": "20593c79-9ccd-4d6f-a957-157f1aee105b",
   "metadata": {},
   "outputs": [
    {
     "name": "stdout",
     "output_type": "stream",
     "text": [
      "Submitted batch job 1112993\n"
     ]
    },
    {
     "name": "stdout",
     "output_type": "stream",
     "text": [
      "             JOBID PARTITION     NAME     USER ST       TIME  NODES NODELIST(REASON)\n",
      "           1112993     nodes remove_d      ndo  R       0:05      2 node[20-21]\n",
      "             JOBID PARTITION     NAME     USER ST       TIME  NODES NODELIST(REASON)\n",
      "           1112993     nodes remove_d      ndo  R       0:15      2 node[20-21]\n",
      "             JOBID PARTITION     NAME     USER ST       TIME  NODES NODELIST(REASON)\n",
      "           1112993     nodes remove_d      ndo  R       0:30      2 node[20-21]\n",
      "             JOBID PARTITION     NAME     USER ST       TIME  NODES NODELIST(REASON)\n",
      "           1112993     nodes remove_d      ndo  R       1:01      2 node[20-21]\n"
     ]
    }
   ],
   "source": [
    "!sbatch /home/ndo/removedup_script/removedup_script.txt \\\n",
    "        SRR13586007.bam\n",
    "\n",
    "!sleep 5\n",
    "!squeue -u ndo\n",
    "!sleep 10\n",
    "!squeue -u ndo\n",
    "!sleep 15\n",
    "!squeue -u ndo\n",
    "!sleep 30\n",
    "!squeue -u ndo"
   ]
  },
  {
   "cell_type": "code",
   "execution_count": 44,
   "id": "5c99b300-0adf-48cb-b367-6dbc73ec3eb6",
   "metadata": {},
   "outputs": [
    {
     "name": "stdout",
     "output_type": "stream",
     "text": [
      "             JOBID PARTITION     NAME     USER ST       TIME  NODES NODELIST(REASON)\n",
      "           1112993     nodes remove_d      ndo  R       1:28      2 node[20-21]\n"
     ]
    }
   ],
   "source": [
    "!squeue -u ndo\n"
   ]
  },
  {
   "cell_type": "code",
   "execution_count": 8,
   "id": "43205504-d478-4ec0-b5d6-7a4da35ef49d",
   "metadata": {},
   "outputs": [
    {
     "ename": "SyntaxError",
     "evalue": "invalid syntax (<ipython-input-8-fda4d146add7>, line 1)",
     "output_type": "error",
     "traceback": [
      "\u001b[0;36m  Cell \u001b[0;32mIn[8], line 1\u001b[0;36m\u001b[0m\n\u001b[0;31m    java -jar picard.jar\u001b[0m\n\u001b[0m              ^\u001b[0m\n\u001b[0;31mSyntaxError\u001b[0m\u001b[0;31m:\u001b[0m invalid syntax\n"
     ]
    }
   ],
   "source": []
  },
  {
   "cell_type": "code",
   "execution_count": 1,
   "id": "3d0f984d-5daa-40e6-b688-d5e3bfdbb1b4",
   "metadata": {},
   "outputs": [
    {
     "name": "stdout",
     "output_type": "stream",
     "text": [
      "\n",
      "CommandNotFoundError: Your shell has not been properly configured to use 'conda activate'.\n",
      "To initialize your shell, run\n",
      "\n",
      "    $ conda init <SHELL_NAME>\n",
      "\n",
      "Currently supported shells are:\n",
      "  - bash\n",
      "  - fish\n",
      "  - tcsh\n",
      "  - xonsh\n",
      "  - zsh\n",
      "  - powershell\n",
      "\n",
      "See 'conda init --help' for more information and options.\n",
      "\n",
      "IMPORTANT: You may need to close and restart your shell after running 'conda init'.\n",
      "\n",
      "\n",
      "\n",
      "Note: you may need to restart the kernel to use updated packages.\n"
     ]
    }
   ],
   "source": [
    "conda activate gatk\n"
   ]
  },
  {
   "cell_type": "code",
   "execution_count": 3,
   "metadata": {},
   "outputs": [
    {
     "name": "stdout",
     "output_type": "stream",
     "text": [
      "/bin/bash: /home/ndo/anaconda3/bin/activate: No such file or directory\n"
     ]
    }
   ],
   "source": [
    "!source ~/anaconda3/bin/activate\n"
   ]
  },
  {
   "cell_type": "code",
   "execution_count": 4,
   "metadata": {},
   "outputs": [
    {
     "name": "stdout",
     "output_type": "stream",
     "text": [
      "# conda environments:\n",
      "#\n",
      "conda_fastqc          *  /home/ndo/.conda/envs/conda_fastqc\n",
      "gatk                     /home/ndo/.conda/envs/gatk\n",
      "test1                    /home/ndo/.conda/envs/test1\n",
      "base                     /opt/intel/intelpython3\n",
      "RNAseq_R_tools           /opt/intel/intelpython3/envs/RNAseq_R_tools\n",
      "RNAseq_v1.0              /opt/intel/intelpython3/envs/RNAseq_v1.0\n",
      "RNAseq_v2.0              /opt/intel/intelpython3/envs/RNAseq_v2.0\n",
      "_galaxy_                 /opt/intel/intelpython3/envs/_galaxy_\n",
      "fan-c                    /opt/intel/intelpython3/envs/fan-c\n",
      "hap.py                   /opt/intel/intelpython3/envs/hap.py\n",
      "jupyterhub-env           /opt/intel/intelpython3/envs/jupyterhub-env\n",
      "jupyterhub-env-clone     /opt/intel/intelpython3/envs/jupyterhub-env-clone\n",
      "ngstools-env             /opt/intel/intelpython3/envs/ngstools-env\n",
      "trinityRNAseq            /opt/intel/intelpython3/envs/trinityRNAseq\n",
      "\n",
      "\n",
      "Note: you may need to restart the kernel to use updated packages.\n"
     ]
    }
   ],
   "source": [
    "conda env list"
   ]
  },
  {
   "cell_type": "code",
   "execution_count": 5,
   "metadata": {},
   "outputs": [
    {
     "name": "stdout",
     "output_type": "stream",
     "text": [
      "no change     /opt/intel/intelpython3/condabin/conda\n",
      "no change     /opt/intel/intelpython3/bin/conda\n",
      "no change     /opt/intel/intelpython3/bin/conda-env\n",
      "no change     /opt/intel/intelpython3/bin/activate\n",
      "no change     /opt/intel/intelpython3/bin/deactivate\n",
      "no change     /opt/intel/intelpython3/etc/profile.d/conda.sh\n",
      "no change     /opt/intel/intelpython3/etc/fish/conf.d/conda.fish\n",
      "no change     /opt/intel/intelpython3/shell/condabin/Conda.psm1\n",
      "no change     /opt/intel/intelpython3/shell/condabin/conda-hook.ps1\n",
      "no change     /opt/intel/intelpython3/lib/python3.6/site-packages/xontrib/conda.xsh\n",
      "no change     /opt/intel/intelpython3/etc/profile.d/conda.csh\n",
      "no change     /home/ndo/.bashrc\n",
      "No action taken.\n",
      "\n",
      "Note: you may need to restart the kernel to use updated packages.\n"
     ]
    }
   ],
   "source": [
    "conda init bash\n"
   ]
  },
  {
   "cell_type": "code",
   "execution_count": 1,
   "metadata": {},
   "outputs": [
    {
     "name": "stdout",
     "output_type": "stream",
     "text": [
      "\n",
      "CommandNotFoundError: Your shell has not been properly configured to use 'conda activate'.\n",
      "To initialize your shell, run\n",
      "\n",
      "    $ conda init <SHELL_NAME>\n",
      "\n",
      "Currently supported shells are:\n",
      "  - bash\n",
      "  - fish\n",
      "  - tcsh\n",
      "  - xonsh\n",
      "  - zsh\n",
      "  - powershell\n",
      "\n",
      "See 'conda init --help' for more information and options.\n",
      "\n",
      "IMPORTANT: You may need to close and restart your shell after running 'conda init'.\n",
      "\n",
      "\n",
      "\n",
      "Note: you may need to restart the kernel to use updated packages.\n"
     ]
    }
   ],
   "source": [
    "conda activate gatk"
   ]
  },
  {
   "cell_type": "code",
   "execution_count": 2,
   "metadata": {},
   "outputs": [
    {
     "name": "stdout",
     "output_type": "stream",
     "text": [
      "no change     /opt/intel/intelpython3/condabin/conda\n",
      "no change     /opt/intel/intelpython3/bin/conda\n",
      "no change     /opt/intel/intelpython3/bin/conda-env\n",
      "no change     /opt/intel/intelpython3/bin/activate\n",
      "no change     /opt/intel/intelpython3/bin/deactivate\n",
      "no change     /opt/intel/intelpython3/etc/profile.d/conda.sh\n",
      "no change     /opt/intel/intelpython3/etc/fish/conf.d/conda.fish\n",
      "no change     /opt/intel/intelpython3/shell/condabin/Conda.psm1\n",
      "no change     /opt/intel/intelpython3/shell/condabin/conda-hook.ps1\n",
      "no change     /opt/intel/intelpython3/lib/python3.6/site-packages/xontrib/conda.xsh\n",
      "no change     /opt/intel/intelpython3/etc/profile.d/conda.csh\n",
      "no change     /home/ndo/.bashrc\n",
      "No action taken.\n",
      "\n",
      "Note: you may need to restart the kernel to use updated packages.\n"
     ]
    }
   ],
   "source": [
    "conda init"
   ]
  },
  {
   "cell_type": "code",
   "execution_count": null,
   "metadata": {},
   "outputs": [],
   "source": []
  }
 ],
 "metadata": {
  "kernelspec": {
   "display_name": "Python 3",
   "language": "python",
   "name": "python3"
  },
  "language_info": {
   "codemirror_mode": {
    "name": "ipython",
    "version": 3
   },
   "file_extension": ".py",
   "mimetype": "text/x-python",
   "name": "python",
   "nbconvert_exporter": "python",
   "pygments_lexer": "ipython3",
   "version": "3.6.8"
  }
 },
 "nbformat": 4,
 "nbformat_minor": 5
}
