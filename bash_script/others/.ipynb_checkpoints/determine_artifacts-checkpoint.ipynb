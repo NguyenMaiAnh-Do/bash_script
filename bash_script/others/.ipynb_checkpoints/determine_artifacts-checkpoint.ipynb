{
 "cells": [
  {
   "cell_type": "code",
   "execution_count": 1,
   "id": "21a0f564-9a42-421a-b262-4173b8779b7a",
   "metadata": {},
   "outputs": [],
   "source": [
    "# Kathy Lam\n",
    "\n",
    "import pandas as pd\n",
    "import numpy as np\n",
    "import pickle\n",
    "import os.path\n",
    "#import sklearn as sk\n",
    "from sklearn.model_selection import train_test_split\n",
    "from sklearn.model_selection import StratifiedShuffleSplit\n",
    "from sklearn.impute import SimpleImputer \n",
    "from sklearn.preprocessing import OrdinalEncoder\n",
    "from sklearn.preprocessing import OneHotEncoder\n",
    "from sklearn.base import BaseEstimator, TransformerMixin\n",
    "from sklearn.pipeline import Pipeline\n",
    "from sklearn.preprocessing import StandardScaler\n",
    "from sklearn.compose import ColumnTransformer\n",
    "\n",
    "import get_metrics"
   ]
  },
  {
   "cell_type": "code",
   "execution_count": 2,
   "id": "6dab00b4-e9e8-43b1-96ed-632a04abf058",
   "metadata": {},
   "outputs": [],
   "source": [
    "srr_names = ['ERR1831349',\n",
    "            'ERR1905889',\n",
    "            'ERR1905890',\n",
    "            'SRR14724463',\n",
    "            'SRR14724473',\n",
    "            'SRR14724483',\n",
    "            'SRR14724493', \n",
    "            'SRR14724503',\n",
    "            'SRR14724513',\n",
    "            'SRR2106342',\n",
    "            'SRR2106344']\n",
    "\n",
    "\n",
    "#srr_names = ['ERR1831349']"
   ]
  },
  {
   "cell_type": "code",
   "execution_count": 4,
   "id": "a5f0f675-e6b2-4d30-a79f-8d2862d9ca2b",
   "metadata": {},
   "outputs": [],
   "source": [
    "# Convert GIAB VCF file into a pandas df \n",
    "giab_snv_dfs = []\n",
    "for srr_name in srr_names:\n",
    "    giab_vcf = f'/home/klam/data/{srr_name}/GIAB_variants_intersect_bedfile.vcf'  \n",
    "    giab_df = get_metrics.vcf_to_df(giab_vcf).set_index([\"CHROM\", \"POS\"]) # makes index unique based on CHROM and POS\n",
    "    # Only select SNVs from the GIAB datasets\n",
    "    giab_snv_df = get_metrics.filter_for_snvs(giab_df)\n",
    "    giab_snv_dfs.append(giab_snv_df)"
   ]
  },
  {
   "cell_type": "code",
   "execution_count": 6,
   "id": "a624a3ba-a3fc-4b3c-8692-341df442264d",
   "metadata": {},
   "outputs": [],
   "source": [
    "# Convert SRR VCF files into a pandas df\n",
    "srr_snv_dfs = []\n",
    "for srr_name in srr_names:  \n",
    "    srr_vcf = f'/home/klam/data/{srr_name}/SRR_variants_intersect_bedfile.vcf'\n",
    "    srr_df = get_metrics.vcf_to_df(srr_vcf).set_index([\"CHROM\", \"POS\"]) # makes index unique based on CHROM and POS\n",
    "    # Only select SNVs from the SRR datasets\n",
    "    srr_snv_df = get_metrics.filter_for_snvs(srr_df)\n",
    "    srr_snv_dfs.append(srr_snv_df)"
   ]
  },
  {
   "cell_type": "code",
   "execution_count": 7,
   "id": "33d44ee3-5d92-49a9-b00e-d76eb3e9db3a",
   "metadata": {},
   "outputs": [],
   "source": [
    "# Match each SRR SNV DF with GIAB SNV DF using zip() then merge them into a single DF\n",
    "joined_dfs = []\n",
    "for srr_snv_df, giab_snv_df in zip(srr_snv_dfs, giab_snv_dfs):\n",
    "    joined_df = get_metrics.join_datasets(srr_snv_df, giab_snv_df)\n",
    "    joined_dfs.append(joined_df)"
   ]
  },
  {
   "cell_type": "code",
   "execution_count": 8,
   "id": "32535135-6686-4b23-85b5-e52b65cfcc5c",
   "metadata": {},
   "outputs": [
    {
     "data": {
      "text/plain": [
       "91236"
      ]
     },
     "execution_count": 8,
     "metadata": {},
     "output_type": "execute_result"
    }
   ],
   "source": [
    "len(srr_snv_dfs[0])"
   ]
  },
  {
   "cell_type": "code",
   "execution_count": 9,
   "id": "8d3c6984-32bd-4614-a02b-b34c88510c89",
   "metadata": {},
   "outputs": [
    {
     "data": {
      "text/plain": [
       "92560"
      ]
     },
     "execution_count": 9,
     "metadata": {},
     "output_type": "execute_result"
    }
   ],
   "source": [
    "len(joined_dfs[0])"
   ]
  },
  {
   "cell_type": "code",
   "execution_count": 10,
   "id": "96d2a71e-657d-4f60-a051-dbd2ad8ddca2",
   "metadata": {},
   "outputs": [
    {
     "data": {
      "text/html": [
       "<div>\n",
       "<style scoped>\n",
       "    .dataframe tbody tr th:only-of-type {\n",
       "        vertical-align: middle;\n",
       "    }\n",
       "\n",
       "    .dataframe tbody tr th {\n",
       "        vertical-align: top;\n",
       "    }\n",
       "\n",
       "    .dataframe thead th {\n",
       "        text-align: right;\n",
       "    }\n",
       "</style>\n",
       "<table border=\"1\" class=\"dataframe\">\n",
       "  <thead>\n",
       "    <tr style=\"text-align: right;\">\n",
       "      <th></th>\n",
       "      <th></th>\n",
       "      <th>REF_SRR</th>\n",
       "      <th>ALT_SRR</th>\n",
       "      <th>REF_GIAB</th>\n",
       "      <th>ALT_GIAB</th>\n",
       "    </tr>\n",
       "    <tr>\n",
       "      <th>CHROM</th>\n",
       "      <th>POS</th>\n",
       "      <th></th>\n",
       "      <th></th>\n",
       "      <th></th>\n",
       "      <th></th>\n",
       "    </tr>\n",
       "  </thead>\n",
       "  <tbody>\n",
       "    <tr>\n",
       "      <th rowspan=\"5\" valign=\"top\">chr1</th>\n",
       "      <th>100049943</th>\n",
       "      <td>C</td>\n",
       "      <td>T</td>\n",
       "      <td>NaN</td>\n",
       "      <td>NaN</td>\n",
       "    </tr>\n",
       "    <tr>\n",
       "      <th>100059935</th>\n",
       "      <td>C</td>\n",
       "      <td>A</td>\n",
       "      <td>NaN</td>\n",
       "      <td>NaN</td>\n",
       "    </tr>\n",
       "    <tr>\n",
       "      <th>100061846</th>\n",
       "      <td>C</td>\n",
       "      <td>A</td>\n",
       "      <td>NaN</td>\n",
       "      <td>NaN</td>\n",
       "    </tr>\n",
       "    <tr>\n",
       "      <th>100069663</th>\n",
       "      <td>G</td>\n",
       "      <td>A</td>\n",
       "      <td>NaN</td>\n",
       "      <td>NaN</td>\n",
       "    </tr>\n",
       "    <tr>\n",
       "      <th>100080550</th>\n",
       "      <td>C</td>\n",
       "      <td>T</td>\n",
       "      <td>NaN</td>\n",
       "      <td>NaN</td>\n",
       "    </tr>\n",
       "  </tbody>\n",
       "</table>\n",
       "</div>"
      ],
      "text/plain": [
       "                REF_SRR ALT_SRR REF_GIAB ALT_GIAB\n",
       "CHROM POS                                        \n",
       "chr1  100049943       C       T      NaN      NaN\n",
       "      100059935       C       A      NaN      NaN\n",
       "      100061846       C       A      NaN      NaN\n",
       "      100069663       G       A      NaN      NaN\n",
       "      100080550       C       T      NaN      NaN"
      ]
     },
     "execution_count": 10,
     "metadata": {},
     "output_type": "execute_result"
    }
   ],
   "source": [
    "joined_dfs[0].head()"
   ]
  },
  {
   "cell_type": "code",
   "execution_count": 11,
   "id": "63cb252e-90fb-4aa4-8296-5bbd43f8e8a2",
   "metadata": {},
   "outputs": [
    {
     "data": {
      "text/plain": [
       "REF_SRR       C\n",
       "ALT_SRR       A\n",
       "REF_GIAB    NaN\n",
       "ALT_GIAB    NaN\n",
       "Name: (chr1, 930253), dtype: object"
      ]
     },
     "execution_count": 11,
     "metadata": {},
     "output_type": "execute_result"
    }
   ],
   "source": [
    "joined_dfs[0].loc[('chr1','930253')]"
   ]
  },
  {
   "cell_type": "code",
   "execution_count": 12,
   "id": "ac3f97d5-e3f7-495d-9539-d42a62d61b3f",
   "metadata": {},
   "outputs": [
    {
     "name": "stdout",
     "output_type": "stream",
     "text": [
      "<class 'pandas.core.frame.DataFrame'>\n",
      "MultiIndex: 92560 entries, ('chr1', '100049943') to ('chrX', '9967804')\n",
      "Data columns (total 4 columns):\n",
      " #   Column    Non-Null Count  Dtype \n",
      "---  ------    --------------  ----- \n",
      " 0   REF_SRR   91236 non-null  object\n",
      " 1   ALT_SRR   91236 non-null  object\n",
      " 2   REF_GIAB  18161 non-null  object\n",
      " 3   ALT_GIAB  18161 non-null  object\n",
      "dtypes: object(4)\n",
      "memory usage: 8.0+ MB\n"
     ]
    }
   ],
   "source": [
    "joined_dfs[0].info()"
   ]
  },
  {
   "cell_type": "code",
   "execution_count": 13,
   "id": "f93b385f-5cf2-46f8-8d5a-1c7316d7738b",
   "metadata": {},
   "outputs": [
    {
     "data": {
      "text/plain": [
       "REF_SRR     G\n",
       "ALT_SRR     C\n",
       "REF_GIAB    G\n",
       "ALT_GIAB    C\n",
       "Name: (chrX, 9946907), dtype: object"
      ]
     },
     "execution_count": 13,
     "metadata": {},
     "output_type": "execute_result"
    }
   ],
   "source": [
    "# non_artifacts -- true \n",
    "joined_dfs[0].loc[('chrX','9946907')]"
   ]
  },
  {
   "cell_type": "code",
   "execution_count": 10,
   "id": "2d2a719b-7796-455c-b733-9330ae9bcac6",
   "metadata": {},
   "outputs": [
    {
     "data": {
      "text/plain": [
       "REF_SRR     A\n",
       "ALT_SRR     C\n",
       "REF_GIAB    A\n",
       "ALT_GIAB    G\n",
       "Name: (chr5, 120686221), dtype: object"
      ]
     },
     "execution_count": 10,
     "metadata": {},
     "output_type": "execute_result"
    }
   ],
   "source": [
    "# different_variant -- true\n",
    "joined_dfs[0].loc[('chr5','120686221')]"
   ]
  },
  {
   "cell_type": "code",
   "execution_count": 11,
   "id": "fb1f3109-c4be-401d-8e2c-176e14367e4d",
   "metadata": {},
   "outputs": [
    {
     "data": {
      "text/plain": [
       "REF_SRR     NaN\n",
       "ALT_SRR     NaN\n",
       "REF_GIAB      G\n",
       "ALT_GIAB      A\n",
       "Name: (chr1, 100133310), dtype: object"
      ]
     },
     "execution_count": 11,
     "metadata": {},
     "output_type": "execute_result"
    }
   ],
   "source": [
    "# not_in_srr -- true\n",
    "joined_dfs[0].loc[('chr1','100133310')]"
   ]
  },
  {
   "cell_type": "code",
   "execution_count": 12,
   "id": "b23f478a-76cb-45e7-9dbb-d0802285addf",
   "metadata": {},
   "outputs": [
    {
     "data": {
      "text/plain": [
       "REF_SRR       C\n",
       "ALT_SRR       T\n",
       "REF_GIAB    NaN\n",
       "ALT_GIAB    NaN\n",
       "Name: (chr1, 100049943), dtype: object"
      ]
     },
     "execution_count": 12,
     "metadata": {},
     "output_type": "execute_result"
    }
   ],
   "source": [
    "# not_in_giab -- true\n",
    "joined_dfs[0].loc[('chr1','100049943')]"
   ]
  },
  {
   "cell_type": "code",
   "execution_count": 14,
   "id": "16d4023a-dd94-49c3-840d-b50520ba3be9",
   "metadata": {},
   "outputs": [
    {
     "name": "stdout",
     "output_type": "stream",
     "text": [
      "Stats for ERR1831349\n",
      "Case 1: 16836\n",
      "Case 2: 1\n",
      "Case 3: 1324\n",
      "Case 4: 74399\n",
      "\n",
      "Stats for ERR1905889\n",
      "Case 1: 17087\n",
      "Case 2: 0\n",
      "Case 3: 1074\n",
      "Case 4: 43938\n",
      "\n",
      "Stats for ERR1905890\n",
      "Case 1: 17035\n",
      "Case 2: 2\n",
      "Case 3: 1124\n",
      "Case 4: 37654\n",
      "\n",
      "Stats for SRR14724463\n",
      "Case 1: 24276\n",
      "Case 2: 3\n",
      "Case 3: 1583\n",
      "Case 4: 113980\n",
      "\n",
      "Stats for SRR14724473\n",
      "Case 1: 16129\n",
      "Case 2: 0\n",
      "Case 3: 1295\n",
      "Case 4: 55813\n",
      "\n",
      "Stats for SRR14724483\n",
      "Case 1: 18052\n",
      "Case 2: 1\n",
      "Case 3: 1016\n",
      "Case 4: 83781\n",
      "\n",
      "Stats for SRR14724493\n",
      "Case 1: 24121\n",
      "Case 2: 1\n",
      "Case 3: 1740\n",
      "Case 4: 89054\n",
      "\n",
      "Stats for SRR14724503\n",
      "Case 1: 16093\n",
      "Case 2: 1\n",
      "Case 3: 1330\n",
      "Case 4: 58612\n",
      "\n",
      "Stats for SRR14724513\n",
      "Case 1: 17949\n",
      "Case 2: 1\n",
      "Case 3: 1119\n",
      "Case 4: 90188\n",
      "\n",
      "Stats for SRR2106342\n",
      "Case 1: 49106\n",
      "Case 2: 1\n",
      "Case 3: 2595\n",
      "Case 4: 95916\n",
      "\n",
      "Stats for SRR2106344\n",
      "Case 1: 24236\n",
      "Case 2: 0\n",
      "Case 3: 1626\n",
      "Case 4: 240189\n",
      "\n"
     ]
    }
   ],
   "source": [
    "# Count the number of artifacts per case\n",
    "\n",
    "# Case 1: GIAB and SRR contain the same variant at the same locus is considered true variant (not artifact)\n",
    "# Case 2: GIAB contains a variant and SRR contains a different variant at the same locus (artifact)\n",
    "# Case 3: GIAB contains a variant, but SRR does not contain a variant in the same locus\n",
    "     # 3.1: SRR does not contain anything (not artifact)\n",
    "     # 3.2: SRR does not contain a variant because the SRR read matches the reference genome (variant)\n",
    "# Case 4: SRR contains a variant, but GIAB does not contain a variant in the same locus (artifact)\n",
    "\n",
    "# artifact_cols contains boolean values for each index -- False means case 1, True means case 2 or 4\n",
    "artifact_cols = []\n",
    "for srr_name, joined_df in zip(srr_names, joined_dfs):\n",
    "    print(f\"Stats for {srr_name}\")\n",
    "    artifact_col = get_metrics.extract_artifacts_column(joined_df)\n",
    "    artifact_cols.append(artifact_col)\n",
    "    print(\"\")"
   ]
  },
  {
   "cell_type": "code",
   "execution_count": 15,
   "id": "47afea6f-4771-48d2-ada4-6e23db8312d4",
   "metadata": {},
   "outputs": [
    {
     "data": {
      "text/plain": [
       "CHROM  POS      \n",
       "chr1   100049943     True\n",
       "       100059935     True\n",
       "       100061846     True\n",
       "       100069663     True\n",
       "       100080550     True\n",
       "                    ...  \n",
       "chrX   9937435       True\n",
       "       9944862       True\n",
       "       9946907      False\n",
       "       9967486      False\n",
       "       9967804      False\n",
       "Length: 92560, dtype: bool"
      ]
     },
     "execution_count": 15,
     "metadata": {},
     "output_type": "execute_result"
    }
   ],
   "source": [
    "artifact_cols[0]"
   ]
  },
  {
   "cell_type": "code",
   "execution_count": 17,
   "id": "ffe6394e-6e0c-45d7-a894-d119a69bf6c5",
   "metadata": {},
   "outputs": [],
   "source": [
    "# Convert SRR VCF files into a pandas df -- Extract flanks and get metrics\n",
    "# if pkl file exists then we already got metrics and converted to pkl\n",
    "srr_snv_metrics_dfs = []\n",
    "srr_snv_metrics_names = []\n",
    "for srr_name in srr_names:\n",
    "    pkl_path = f'/home/klam/data/{srr_name}/SRR_snv_metrics.pkl'\n",
    "    if os.path.exists(pkl_path):\n",
    "        continue\n",
    "    else:\n",
    "        srr_vcf = f'data/{srr_name}/SRR_variants_intersect_bedfile.vcf'\n",
    "        srr_df = get_metrics.main(srr_vcf).set_index([\"CHROM\", \"POS\"]) # makes index unique based on CHROM and POS\n",
    "        # Only select SNVs from the SRR datasets\n",
    "        srr_snv_df = get_metrics.filter_for_snvs(srr_df)\n",
    "        srr_snv_metrics_dfs.append(srr_snv_df)\n",
    "        srr_snv_metrics_names.append(srr_name)\n",
    "\n",
    "# Save all srr_snv_metrics_dfs as a pickle file for easier loading in later if there are dfs to serialize\n",
    "if len(srr_snv_metrics_dfs) != 0:\n",
    "    for srr_name, srr_snv_metric_df in zip(srr_snv_metrics_names, srr_snv_metrics_dfs):\n",
    "        pkl_path = f'/home/klam/data/{srr_name}/SRR_snv_metrics.pkl'\n",
    "        srr_snv_metric_df.to_pickle(pkl_path) "
   ]
  },
  {
   "cell_type": "code",
   "execution_count": 25,
   "id": "c70f5043-ca5d-4ac6-a729-3006a182833c",
   "metadata": {},
   "outputs": [
    {
     "data": {
      "text/plain": [
       "(91236, 536)"
      ]
     },
     "execution_count": 25,
     "metadata": {},
     "output_type": "execute_result"
    }
   ],
   "source": [
    "df2 = pd.read_pickle('/home/klam/data/ERR1831349/SRR_snv_metrics.pkl')\n",
    "df2.shape"
   ]
  },
  {
   "cell_type": "code",
   "execution_count": 24,
   "id": "6b84a2b3-8ccd-4011-a0a0-ae22ccbd3b83",
   "metadata": {},
   "outputs": [
    {
     "data": {
      "text/plain": [
       "Index(['REF', 'ALT', 'LSEQ', 'L_A', 'L_T', 'L_G', 'L_C', 'L_TTCT', 'L_TCTC',\n",
       "       'L_CTCT',\n",
       "       ...\n",
       "       'R_TTTA', 'R_TTAC', 'R_CTAT', 'R_CTAG', 'R_HOMO_POLY_A',\n",
       "       'R_HOMO_POLY_T', 'R_HOMO_POLY_G', 'R_HOMO_POLY_C', 'R_PALINDROME',\n",
       "       'R_HAIRPIN'],\n",
       "      dtype='object', length=536)"
      ]
     },
     "execution_count": 24,
     "metadata": {},
     "output_type": "execute_result"
    }
   ],
   "source": []
  },
  {
   "cell_type": "code",
   "execution_count": 21,
   "id": "6c7ccfa3-801b-42be-ab27-60e0ba94d399",
   "metadata": {},
   "outputs": [
    {
     "name": "stdout",
     "output_type": "stream",
     "text": [
      "<class 'pandas.core.frame.DataFrame'>\n",
      "MultiIndex: 91236 entries, ('chr1', '930253') to ('chrX', '143884366')\n",
      "Columns: 536 entries, REF to R_HAIRPIN\n",
      "dtypes: float64(8), int64(524), object(4)\n",
      "memory usage: 374.3+ MB\n"
     ]
    }
   ],
   "source": [
    "df2.info()"
   ]
  },
  {
   "cell_type": "code",
   "execution_count": 16,
   "id": "eef3982d-1675-4528-a6e9-8e1c46dcf1fe",
   "metadata": {},
   "outputs": [],
   "source": [
    "# Extract features(column values) for training\n"
   ]
  },
  {
   "cell_type": "code",
   "execution_count": null,
   "id": "13fe3d0f-b68b-48c2-8d68-6cc581ca6551",
   "metadata": {},
   "outputs": [],
   "source": []
  },
  {
   "cell_type": "code",
   "execution_count": null,
   "id": "1ff94fe5-543a-4923-9ae8-82fcf87c3def",
   "metadata": {},
   "outputs": [],
   "source": []
  },
  {
   "cell_type": "code",
   "execution_count": null,
   "id": "2c8ec745-3d63-42d3-9bcb-642c814b8d21",
   "metadata": {},
   "outputs": [],
   "source": []
  },
  {
   "cell_type": "code",
   "execution_count": null,
   "id": "75befe27-6347-4ba6-8fd4-07316b52980c",
   "metadata": {},
   "outputs": [],
   "source": []
  },
  {
   "cell_type": "code",
   "execution_count": null,
   "id": "7e27496c-2a98-4e33-8cd7-76945134041c",
   "metadata": {},
   "outputs": [],
   "source": []
  },
  {
   "cell_type": "code",
   "execution_count": null,
   "id": "7ad6a763-7208-40c1-8977-27a96334b838",
   "metadata": {},
   "outputs": [],
   "source": []
  },
  {
   "cell_type": "code",
   "execution_count": 27,
   "id": "2835213f-fc20-4f29-9b05-a189b609f706",
   "metadata": {},
   "outputs": [
    {
     "data": {
      "text/plain": [
       "'/home/klam'"
      ]
     },
     "execution_count": 27,
     "metadata": {},
     "output_type": "execute_result"
    }
   ],
   "source": [
    "pwd"
   ]
  },
  {
   "cell_type": "code",
   "execution_count": 25,
   "id": "43e51e84-8b33-49ff-80f3-cc47663c0e20",
   "metadata": {},
   "outputs": [],
   "source": [
    "df = pd.DataFrame({'chrom':['chr1', 'chr1'],\n",
    "                  'pos':[1,2],\n",
    "                 'ref':['A', 'T'],\n",
    "                  'alt':['T', 'T'],\n",
    "                  'artifact':[True, False]}).set_index(['chrom', 'pos'])"
   ]
  },
  {
   "cell_type": "code",
   "execution_count": 26,
   "id": "93aeccce-f53b-46ca-92b9-cdcf5f349143",
   "metadata": {},
   "outputs": [
    {
     "data": {
      "text/html": [
       "<div>\n",
       "<style scoped>\n",
       "    .dataframe tbody tr th:only-of-type {\n",
       "        vertical-align: middle;\n",
       "    }\n",
       "\n",
       "    .dataframe tbody tr th {\n",
       "        vertical-align: top;\n",
       "    }\n",
       "\n",
       "    .dataframe thead th {\n",
       "        text-align: right;\n",
       "    }\n",
       "</style>\n",
       "<table border=\"1\" class=\"dataframe\">\n",
       "  <thead>\n",
       "    <tr style=\"text-align: right;\">\n",
       "      <th></th>\n",
       "      <th></th>\n",
       "      <th>ref</th>\n",
       "      <th>alt</th>\n",
       "      <th>artifact</th>\n",
       "    </tr>\n",
       "    <tr>\n",
       "      <th>chrom</th>\n",
       "      <th>pos</th>\n",
       "      <th></th>\n",
       "      <th></th>\n",
       "      <th></th>\n",
       "    </tr>\n",
       "  </thead>\n",
       "  <tbody>\n",
       "    <tr>\n",
       "      <th rowspan=\"2\" valign=\"top\">chr1</th>\n",
       "      <th>1</th>\n",
       "      <td>A</td>\n",
       "      <td>T</td>\n",
       "      <td>True</td>\n",
       "    </tr>\n",
       "    <tr>\n",
       "      <th>2</th>\n",
       "      <td>T</td>\n",
       "      <td>T</td>\n",
       "      <td>False</td>\n",
       "    </tr>\n",
       "  </tbody>\n",
       "</table>\n",
       "</div>"
      ],
      "text/plain": [
       "          ref alt  artifact\n",
       "chrom pos                  \n",
       "chr1  1     A   T      True\n",
       "      2     T   T     False"
      ]
     },
     "execution_count": 26,
     "metadata": {},
     "output_type": "execute_result"
    }
   ],
   "source": [
    "df"
   ]
  },
  {
   "cell_type": "raw",
   "id": "624da583-b6bc-4468-90f9-9ef2d9c382c6",
   "metadata": {},
   "source": []
  },
  {
   "cell_type": "code",
   "execution_count": null,
   "id": "ebad2edb-ecaf-4b84-8693-8bad34eabd56",
   "metadata": {},
   "outputs": [],
   "source": []
  },
  {
   "cell_type": "code",
   "execution_count": null,
   "id": "eefbf398-88c4-41ff-8000-46796e72297b",
   "metadata": {},
   "outputs": [],
   "source": []
  },
  {
   "cell_type": "code",
   "execution_count": null,
   "id": "1975a634-75ca-4e83-9622-53ea72a44624",
   "metadata": {},
   "outputs": [],
   "source": [
    "df[df.artifact == True]"
   ]
  },
  {
   "cell_type": "code",
   "execution_count": null,
   "id": "ba81171b-ee8e-4394-a5a2-762711e49731",
   "metadata": {},
   "outputs": [],
   "source": [
    "df2 = pd.DataFrame({'chrom':['chr1', 'chr1'],\n",
    "                  'pos':[1,3],\n",
    "                 'ref':['A', 'C'],\n",
    "                   'alt':['T', 'T']}).set_index(['chrom', 'pos'])\n",
    "df2"
   ]
  },
  {
   "cell_type": "code",
   "execution_count": null,
   "id": "7fff083f-1eb0-47ed-9dbe-f2e5361dc905",
   "metadata": {},
   "outputs": [],
   "source": [
    "df = pd.merge(df, df2, left_index=True, right_index=True, suffixes = (\"_SRR\", \"_GIAB\"), how='outer')\n",
    "df"
   ]
  },
  {
   "cell_type": "code",
   "execution_count": null,
   "id": "2d29f015-b7ca-45f8-9264-4f43ed936453",
   "metadata": {},
   "outputs": [],
   "source": [
    "#df.ref_SRR == df.ref_GIAB and df.alt_SRR == df.alt_GIAB\n",
    "df.ref_SRR == df.ref_GIAB "
   ]
  },
  {
   "cell_type": "code",
   "execution_count": null,
   "id": "690017d7-9fe9-416d-82b7-64efb002e8e2",
   "metadata": {},
   "outputs": [],
   "source": [
    "df.alt_SRR == df.alt_GIAB"
   ]
  },
  {
   "cell_type": "code",
   "execution_count": null,
   "id": "126c7fd6-a5de-4ba3-986a-8710fa5ad625",
   "metadata": {},
   "outputs": [],
   "source": [
    "pd.merge(df[df.ref_SRR == df.ref_GIAB], df[df.alt_SRR == df.alt_GIAB], how='inner' )"
   ]
  },
  {
   "cell_type": "code",
   "execution_count": null,
   "id": "423c1d02-dd72-4ca4-a6fe-a685a689408a",
   "metadata": {},
   "outputs": [],
   "source": []
  }
 ],
 "metadata": {
  "kernelspec": {
   "display_name": "Python 3 (ipykernel)",
   "language": "python",
   "name": "python3"
  },
  "language_info": {
   "codemirror_mode": {
    "name": "ipython",
    "version": 3
   },
   "file_extension": ".py",
   "mimetype": "text/x-python",
   "name": "python",
   "nbconvert_exporter": "python",
   "pygments_lexer": "ipython3",
   "version": "3.11.0"
  }
 },
 "nbformat": 4,
 "nbformat_minor": 5
}
