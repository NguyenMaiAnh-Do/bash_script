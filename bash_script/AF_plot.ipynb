{
 "cells": [
  {
   "cell_type": "code",
   "execution_count": 13,
   "metadata": {},
   "outputs": [],
   "source": [
    "from collections import defaultdict\n",
    "\n",
    "# Open the file\n",
    "vals = []\n",
    "total = 0\n",
    "with open('/home/ndo/bash_output/05_bedtools_intersect/SRR13586007_intersected.vcf', 'r') as file:\n",
    "    # Read the file line by line\n",
    "    for line in file:\n",
    "        # Process each line (e.g., print it)\n",
    "        # print(line.strip())  # strip() removes any trailing whitespace\n",
    "        if not line.startswith(\"#\"):\n",
    "            chr, pos, id, ref, alt, qual, filter, info = line.split()\n",
    "            # print(chr, pos, id, ref, alt, qual, filter, info)\n",
    "            DP, AF, SB, DP4 = info.split(\";\")\n",
    "            af, val = AF.split(\"=\")\n",
    "            vals.append(float(val))\n",
    "\n",
    "\n",
    "            \n"
   ]
  },
  {
   "cell_type": "code",
   "execution_count": 2,
   "metadata": {},
   "outputs": [
    {
     "name": "stdout",
     "output_type": "stream",
     "text": [
      "Requirement already satisfied: matplotlib in /home/NFS_OPT/intel/intelpython3/lib/python3.6/site-packages (2.1.0)\n",
      "Requirement already satisfied: numpy>=1.7.1 in /home/NFS_OPT/intel/intelpython3/lib/python3.6/site-packages (from matplotlib) (1.17.5)\n",
      "Requirement already satisfied: six>=1.10 in /home/ndo/.local/lib/python3.6/site-packages (from matplotlib) (1.16.0)\n",
      "Requirement already satisfied: python-dateutil>=2.0 in /home/ndo/.local/lib/python3.6/site-packages (from matplotlib) (2.8.2)\n",
      "Requirement already satisfied: pytz in /home/NFS_OPT/intel/intelpython3/lib/python3.6/site-packages (from matplotlib) (2021.3)\n",
      "Requirement already satisfied: cycler>=0.10 in /home/NFS_OPT/intel/intelpython3/lib/python3.6/site-packages (from matplotlib) (0.11.0)\n",
      "Requirement already satisfied: pyparsing!=2.0.4,!=2.1.2,!=2.1.6,>=2.0.1 in /home/NFS_OPT/intel/intelpython3/lib/python3.6/site-packages (from matplotlib) (3.0.4)\n"
     ]
    }
   ],
   "source": [
    "!pip install matplotlib"
   ]
  },
  {
   "cell_type": "code",
   "execution_count": 8,
   "metadata": {},
   "outputs": [],
   "source": [
    "import matplotlib.pyplot as plt\n",
    "import numpy as np"
   ]
  },
  {
   "cell_type": "code",
   "execution_count": 14,
   "metadata": {},
   "outputs": [],
   "source": [
    "np_hist = np.array(vals)"
   ]
  },
  {
   "cell_type": "code",
   "execution_count": 15,
   "metadata": {},
   "outputs": [
    {
     "data": {
      "text/plain": [
       "array([0.5     , 0.166667, 0.25    , 0.5     , 0.25    , 0.333333,\n",
       "       0.333333, 0.5     , 0.5     , 0.5     ])"
      ]
     },
     "execution_count": 15,
     "metadata": {},
     "output_type": "execute_result"
    }
   ],
   "source": [
    "np_hist[:10]"
   ]
  },
  {
   "cell_type": "code",
   "execution_count": 16,
   "metadata": {},
   "outputs": [
    {
     "data": {
      "text/plain": [
       "0.24988509328019945"
      ]
     },
     "execution_count": 16,
     "metadata": {},
     "output_type": "execute_result"
    }
   ],
   "source": [
    "np_hist.mean()\n",
    "np_hist.std()"
   ]
  },
  {
   "cell_type": "code",
   "execution_count": 17,
   "metadata": {},
   "outputs": [],
   "source": [
    "hist,bin_edges = np.histogram(np_hist)"
   ]
  },
  {
   "cell_type": "code",
   "execution_count": 19,
   "metadata": {},
   "outputs": [
    {
     "data": {
      "text/plain": [
       "array([0.008696 , 0.1078264, 0.2069568, 0.3060872, 0.4052176, 0.504348 ,\n",
       "       0.6034784, 0.7026088, 0.8017392, 0.9008696, 1.       ])"
      ]
     },
     "execution_count": 19,
     "metadata": {},
     "output_type": "execute_result"
    }
   ],
   "source": [
    "hist\n",
    "bin_edges"
   ]
  },
  {
   "cell_type": "code",
   "execution_count": 25,
   "metadata": {},
   "outputs": [
    {
     "data": {
      "image/png": "[encoded data removed]",
      "text/plain": [
       "<matplotlib.figure.Figure at 0x2b6e88f9c6a0>"
      ]
     },
     "metadata": {
      "needs_background": "light"
     },
     "output_type": "display_data"
    }
   ],
   "source": [
    "\n",
    "import matplotlib.pyplot as plt\n",
    "plt.hist(vals, bins=20, color='skyblue', edgecolor='black')  # Adjust the number of bins as needed\n",
    "plt.xlabel('Values')\n",
    "plt.ylabel('Frequency')\n",
    "plt.title('Histogram of Data')\n",
    "plt.grid(True)\n",
    "plt.show()"
   ]
  },
  {
   "cell_type": "code",
   "execution_count": 3,
   "metadata": {},
   "outputs": [
    {
     "name": "stdout",
     "output_type": "stream",
     "text": [
      "Requirement already satisfied: seaborn in /home/NFS_OPT/intel/intelpython3/lib/python3.6/site-packages (0.9.0)\n",
      "Requirement already satisfied: scipy>=0.14.0 in /home/NFS_OPT/intel/intelpython3/lib/python3.6/site-packages (from seaborn) (1.5.3)\n",
      "Requirement already satisfied: pandas>=0.15.2 in /home/NFS_OPT/intel/intelpython3/lib/python3.6/site-packages (from seaborn) (0.25.0+0.gd1accd0.dirty)\n",
      "Requirement already satisfied: numpy>=1.9.3 in /home/NFS_OPT/intel/intelpython3/lib/python3.6/site-packages (from seaborn) (1.17.5)\n",
      "Requirement already satisfied: matplotlib>=1.4.3 in /home/NFS_OPT/intel/intelpython3/lib/python3.6/site-packages (from seaborn) (2.1.0)\n",
      "Requirement already satisfied: python-dateutil>=2.6.1 in /home/ndo/.local/lib/python3.6/site-packages (from pandas>=0.15.2->seaborn) (2.8.2)\n",
      "Requirement already satisfied: pytz>=2017.2 in /home/NFS_OPT/intel/intelpython3/lib/python3.6/site-packages (from pandas>=0.15.2->seaborn) (2021.3)\n",
      "Requirement already satisfied: six>=1.10 in /home/ndo/.local/lib/python3.6/site-packages (from matplotlib>=1.4.3->seaborn) (1.16.0)\n",
      "Requirement already satisfied: cycler>=0.10 in /home/NFS_OPT/intel/intelpython3/lib/python3.6/site-packages (from matplotlib>=1.4.3->seaborn) (0.11.0)\n",
      "Requirement already satisfied: pyparsing!=2.0.4,!=2.1.2,!=2.1.6,>=2.0.1 in /home/NFS_OPT/intel/intelpython3/lib/python3.6/site-packages (from matplotlib>=1.4.3->seaborn) (3.0.4)\n"
     ]
    }
   ],
   "source": []
  },
  {
   "cell_type": "code",
   "execution_count": 4,
   "metadata": {},
   "outputs": [
    {
     "name": "stdout",
     "output_type": "stream",
     "text": [
      "Requirement already satisfied: matplotlib in /home/NFS_OPT/intel/intelpython3/lib/python3.6/site-packages (2.1.0)\n",
      "Requirement already satisfied: numpy>=1.7.1 in /home/NFS_OPT/intel/intelpython3/lib/python3.6/site-packages (from matplotlib) (1.17.5)\n",
      "Requirement already satisfied: six>=1.10 in /home/ndo/.local/lib/python3.6/site-packages (from matplotlib) (1.16.0)\n",
      "Requirement already satisfied: python-dateutil>=2.0 in /home/ndo/.local/lib/python3.6/site-packages (from matplotlib) (2.8.2)\n",
      "Requirement already satisfied: pytz in /home/NFS_OPT/intel/intelpython3/lib/python3.6/site-packages (from matplotlib) (2021.3)\n",
      "Requirement already satisfied: cycler>=0.10 in /home/NFS_OPT/intel/intelpython3/lib/python3.6/site-packages (from matplotlib) (0.11.0)\n",
      "Requirement already satisfied: pyparsing!=2.0.4,!=2.1.2,!=2.1.6,>=2.0.1 in /home/NFS_OPT/intel/intelpython3/lib/python3.6/site-packages (from matplotlib) (3.0.4)\n"
     ]
    }
   ],
   "source": [
    "!pip install matplotlib"
   ]
  },
  {
   "cell_type": "code",
   "execution_count": 5,
   "metadata": {},
   "outputs": [],
   "source": [
    "import matplotlib.pyplot as plt"
   ]
  },
  {
   "cell_type": "code",
   "execution_count": 13,
   "metadata": {},
   "outputs": [
    {
     "data": {
      "text/plain": [
       "[('0.333333', 0.22839923419165784),\n",
       " ('0.250000', 0.19530555779174671),\n",
       " ('0.500000', 0.18894947687384717),\n",
       " ('0.200000', 0.13003293818190273),\n",
       " ('1.000000', 0.1143711518470805),\n",
       " ('0.166667', 0.07183217869095294),\n",
       " ('0.142857', 0.03386253924515496),\n",
       " ('0.125000', 0.014139333159751279),\n",
       " ('0.666667', 0.0062872312119544365),\n",
       " ('0.111111', 0.005319030508398732),\n",
       " ('0.400000', 0.0027526721143939373),\n",
       " ('0.750000', 0.0021102119550947466),\n",
       " ('0.100000', 0.001827382517888859),\n",
       " ('0.600000', 0.0012175786707285159),\n",
       " ('0.800000', 0.0007720983152962275),\n",
       " ('0.285714', 0.0007015211973739828),\n",
       " ('0.090909', 0.0005751185114293253),\n",
       " ('0.833333', 0.0002599892121751067),\n",
       " ('0.428571', 0.00021713294359994412),\n",
       " ('0.571429', 0.00018710887828337147),\n",
       " ('0.083333', 0.00018088471131820068),\n",
       " ('0.222222', 0.0001280204209708472),\n",
       " ('0.714286', 0.00011417370591617215),\n",
       " ('0.857143', 8.722059522558685e-05),\n",
       " ('0.375000', 7.03577640203885e-05),\n",
       " ('0.076923', 5.601750268653691e-05),\n",
       " ('0.625000', 5.335783662653002e-05),\n",
       " ('0.875000', 2.7857945535742294e-05),\n",
       " ('0.444444', 2.2867644268512868e-05),\n",
       " ('0.555556', 2.0564428299022362e-05),\n",
       " ('0.071429', 1.9577335740669288e-05),\n",
       " ('0.181818', 1.7137023582518634e-05),\n",
       " ('0.888889', 8.527382934661272e-06),\n",
       " ('0.066667', 8.417705983733153e-06),\n",
       " ('0.300000', 6.909647908471513e-06),\n",
       " ('0.777778', 6.854809433007454e-06),\n",
       " ('0.062500', 4.688689652177098e-06),\n",
       " ('0.700000', 3.427404716503727e-06),\n",
       " ('0.058824', 3.0161161505232797e-06),\n",
       " ('0.900000', 2.3306352072225343e-06),\n",
       " ('0.454545', 2.220958256294415e-06),\n",
       " ('0.153846', 2.1661197808303554e-06),\n",
       " ('0.363636', 1.8645081657780275e-06),\n",
       " ('0.272727', 1.6999927393858485e-06),\n",
       " ('0.038462', 1.6725735016538188e-06),\n",
       " ('0.545455', 1.5628965507256996e-06),\n",
       " ('0.045455', 1.5354773129936696e-06),\n",
       " ('0.055556', 1.4532195997975802e-06),\n",
       " ('0.043478', 1.343542648869461e-06),\n",
       " ('0.636364', 1.343542648869461e-06),\n",
       " ('0.040000', 1.2612849356733715e-06),\n",
       " ('0.041667', 1.2338656979413417e-06),\n",
       " ('0.047619', 1.1516079847452523e-06),\n",
       " ('0.052632', 1.1241887470132225e-06),\n",
       " ('0.050000', 1.0967695092811926e-06),\n",
       " ('0.727273', 9.322540828890137e-07),\n",
       " ('0.909091', 9.322540828890137e-07),\n",
       " ('0.037037', 8.499963696929243e-07),\n",
       " ('0.035714', 8.225771319608944e-07),\n",
       " ('0.034483', 7.677386564968348e-07),\n",
       " ('0.133333', 7.403194187648051e-07),\n",
       " ('0.416667', 6.854809433007453e-07),\n",
       " ('0.583333', 6.03223230104656e-07),\n",
       " ('0.230769', 5.483847546405963e-07),\n",
       " ('0.818182', 4.3870780371247707e-07),\n",
       " ('0.032258', 3.838693282484174e-07),\n",
       " ('0.214286', 3.564500905163876e-07),\n",
       " ('0.538462', 3.290308527843578e-07),\n",
       " ('0.086957', 3.290308527843578e-07),\n",
       " ('0.031250', 3.01611615052328e-07),\n",
       " ('0.117647', 2.7419237732029814e-07),\n",
       " ('0.692308', 2.7419237732029814e-07),\n",
       " ('0.033333', 2.7419237732029814e-07),\n",
       " ('0.080000', 2.4677313958826834e-07),\n",
       " ('0.384615', 2.1935390185623853e-07),\n",
       " ('0.461538', 2.1935390185623853e-07),\n",
       " ('0.030303', 2.1935390185623853e-07),\n",
       " ('0.115385', 2.1935390185623853e-07),\n",
       " ('0.615385', 1.919346641242087e-07),\n",
       " ('0.357143', 1.919346641242087e-07),\n",
       " ('0.307692', 1.3709618866014907e-07),\n",
       " ('0.095238', 1.3709618866014907e-07),\n",
       " ('0.642857', 1.3709618866014907e-07),\n",
       " ('0.136364', 1.0967695092811927e-07),\n",
       " ('0.916667', 1.0967695092811927e-07),\n",
       " ('0.705882', 1.0967695092811927e-07),\n",
       " ('0.266667', 1.0967695092811927e-07),\n",
       " ('0.176471', 1.0967695092811927e-07),\n",
       " ('0.074074', 1.0967695092811927e-07),\n",
       " ('0.029412', 1.0967695092811927e-07),\n",
       " ('0.769231', 8.225771319608945e-08),\n",
       " ('0.105263', 8.225771319608945e-08),\n",
       " ('0.736842', 8.225771319608945e-08),\n",
       " ('0.846154', 8.225771319608945e-08),\n",
       " ('0.008850', 8.225771319608945e-08),\n",
       " ('0.310345', 8.225771319608945e-08),\n",
       " ('0.533333', 5.483847546405963e-08),\n",
       " ('0.294118', 5.483847546405963e-08),\n",
       " ('0.812500', 5.483847546405963e-08),\n",
       " ('0.894737', 5.483847546405963e-08),\n",
       " ('0.866667', 5.483847546405963e-08),\n",
       " ('0.761905', 5.483847546405963e-08),\n",
       " ('0.733333', 5.483847546405963e-08),\n",
       " ('0.785714', 5.483847546405963e-08),\n",
       " ('0.187500', 5.483847546405963e-08),\n",
       " ('0.150000', 5.483847546405963e-08),\n",
       " ('0.466667', 5.483847546405963e-08),\n",
       " ('0.157895', 5.483847546405963e-08),\n",
       " ('0.028571', 5.483847546405963e-08),\n",
       " ('0.027778', 5.483847546405963e-08),\n",
       " ('0.120000', 5.483847546405963e-08),\n",
       " ('0.130435', 5.483847546405963e-08),\n",
       " ('0.210526', 5.483847546405963e-08),\n",
       " ('0.562500', 5.483847546405963e-08),\n",
       " ('0.809524', 5.483847546405963e-08),\n",
       " ('0.964602', 5.483847546405963e-08),\n",
       " ('0.011364', 5.483847546405963e-08),\n",
       " ('0.021739', 5.483847546405963e-08),\n",
       " ('0.840000', 5.483847546405963e-08),\n",
       " ('0.103448', 5.483847546405963e-08),\n",
       " ('0.068966', 5.483847546405963e-08),\n",
       " ('0.850000', 2.7419237732029817e-08),\n",
       " ('0.227273', 2.7419237732029817e-08),\n",
       " ('0.941176', 2.7419237732029817e-08),\n",
       " ('0.631579', 2.7419237732029817e-08),\n",
       " ('0.826087', 2.7419237732029817e-08),\n",
       " ('0.650000', 2.7419237732029817e-08),\n",
       " ('0.647059', 2.7419237732029817e-08),\n",
       " ('0.312500', 2.7419237732029817e-08),\n",
       " ('0.350000', 2.7419237732029817e-08),\n",
       " ('0.277778', 2.7419237732029817e-08),\n",
       " ('0.421053', 2.7419237732029817e-08),\n",
       " ('0.263158', 2.7419237732029817e-08),\n",
       " ('0.064516', 2.7419237732029817e-08),\n",
       " ('0.315789', 2.7419237732029817e-08),\n",
       " ('0.347826', 2.7419237732029817e-08),\n",
       " ('0.807692', 2.7419237732029817e-08),\n",
       " ('0.190476', 2.7419237732029817e-08),\n",
       " ('0.684211', 2.7419237732029817e-08),\n",
       " ('0.476190', 2.7419237732029817e-08),\n",
       " ('0.680000', 2.7419237732029817e-08),\n",
       " ('0.708333', 2.7419237732029817e-08),\n",
       " ('0.235294', 2.7419237732029817e-08),\n",
       " ('0.352941', 2.7419237732029817e-08),\n",
       " ('0.823529', 2.7419237732029817e-08),\n",
       " ('0.437500', 2.7419237732029817e-08),\n",
       " ('0.687500', 2.7419237732029817e-08),\n",
       " ('0.008772', 2.7419237732029817e-08),\n",
       " ('0.973913', 2.7419237732029817e-08),\n",
       " ('0.008696', 2.7419237732029817e-08),\n",
       " ('0.965517', 2.7419237732029817e-08),\n",
       " ('0.013514', 2.7419237732029817e-08),\n",
       " ('0.087719', 2.7419237732029817e-08),\n",
       " ('0.185185', 2.7419237732029817e-08),\n",
       " ('0.096774', 2.7419237732029817e-08),\n",
       " ('0.281250', 2.7419237732029817e-08),\n",
       " ('0.241379', 2.7419237732029817e-08),\n",
       " ('0.413793', 2.7419237732029817e-08),\n",
       " ('0.137931', 2.7419237732029817e-08),\n",
       " ('0.321429', 2.7419237732029817e-08),\n",
       " ('0.392857', 2.7419237732029817e-08),\n",
       " ('0.107143', 2.7419237732029817e-08),\n",
       " ('0.148148', 2.7419237732029817e-08),\n",
       " ('0.923077', 2.7419237732029817e-08)]"
      ]
     },
     "execution_count": 13,
     "metadata": {},
     "output_type": "execute_result"
    }
   ],
   "source": [
    "import math\n",
    "AF = { key: val/total for key, val in AF_hashmap.items()}\n",
    "\n",
    "sorted(AF.items(), key=lambda x: -x[-1])\n"
   ]
  },
  {
   "cell_type": "code",
   "execution_count": 15,
   "metadata": {},
   "outputs": [
    {
     "data": {
      "image/png": "[encoded data removed]",
      "text/plain": [
       "<matplotlib.figure.Figure at 0x2ae2145ffcc0>"
      ]
     },
     "metadata": {
      "needs_background": "light"
     },
     "output_type": "display_data"
    }
   ],
   "source": [
    "plt.bar(AF.keys(), AF.values(), color='g')\n",
    "plt.rcParams[\"figure.figsize\"] = [10, 10]\n",
    "plt.rcParams[\"figure.autolayout\"] = True\n",
    "plt.ylim(0,0.25)\n",
    "plt.xlim(0.250000,0.666667)\n",
    "plt.tight_layout()\n",
    "plt.xlabel('Values')\n",
    "plt.ylabel('Frequency')\n",
    "plt.title('Histogram of Data')\n",
    "plt.grid(True)\n",
    "plt.show()"
   ]
  }
 ],
 "metadata": {
  "kernelspec": {
   "display_name": "Python3 (base)",
   "language": "python",
   "name": "base"
  },
  "language_info": {
   "codemirror_mode": {
    "name": "ipython",
    "version": 3
   },
   "file_extension": ".py",
   "mimetype": "text/x-python",
   "name": "python",
   "nbconvert_exporter": "python",
   "pygments_lexer": "ipython3",
   "version": "3.6.9"
  }
 },
 "nbformat": 4,
 "nbformat_minor": 2
}
