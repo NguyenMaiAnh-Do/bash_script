{
 "cells": [
  {
   "cell_type": "markdown",
   "id": "c14f3c01-d0f9-44a2-b12b-f7280abae96c",
   "metadata": {},
   "source": [
    "continued from `~/nanopore/rogstrix/dorado/221221_P_dorado.ipynb`"
   ]
  },
  {
   "cell_type": "markdown",
   "id": "3b6ee172-0c30-42fc-93b9-3609dd496ffe",
   "metadata": {},
   "source": [
    "# Variant Calling Oxford Nanopore Tech (ONT) Long-Read Whole Genome Sequencing (WGS) Data"
   ]
  },
  {
   "cell_type": "markdown",
   "id": "7850f07e-7de4-439d-ae5a-ad488ba06761",
   "metadata": {},
   "source": [
    "**GOAL**: *create a model to distinguish true variants from artifactual variant calls*"
   ]
  },
  {
   "cell_type": "markdown",
   "id": "312a2f66-de90-4464-922f-e20f3ce39fb8",
   "metadata": {},
   "source": [
    "- data is from the [Nanopore WGS Consortium](https://github.com/nanopore-wgs-consortium/NA12878/blob/master/Genome.md) GitHub page\n",
    "- they sequenced the CEPH1463 (NA12878/GM12878, Ceph/Utah pedigree) human genome reference standard on the Oxford Nanopore MinION using 1D ligation kits (450 bp/s) and R9.4 chemistry (FLO-MIN106)\n",
    "- sequencing was done by [5 labs](https://www.nature.com/articles/nbt.4060) on 53 flow cells using both DNA purchased from Coriell as well as DNA extracted from cultured cells\n"
   ]
  },
  {
   "cell_type": "markdown",
   "id": "b2d13301-1afb-440a-9e34-5549b4ffd681",
   "metadata": {},
   "source": [
    "This analysis involved:\n",
    "- downloading raw FAST5 files (~4.5TB) and basecalling to FASTQ with the new, [high-performance](https://aws.amazon.com/blogs/hpc/benchmarking-the-oxford-nanopore-technologies-basecallers-on-aws/)  [dorado basecaller](https://github.com/nanoporetech/dorado) using the sup (highest accuracy) model \n",
    "- mapping to the hg38 human reference genome to generate BAM files (minimap2, samtools)\n",
    "- marking duplicates (samtools)\n",
    "- merging the resulting 52 BAM files into 1 file (samtools)\n",
    "- variant calling to generate VCF file (bcftools mpileup & call)\n",
    "- intersecting with gold-standard [NIST Genome in a Bottle](https://www.nist.gov/programs-projects/genome-bottle) data to enable comparison (bedtools intersect)\n",
    "- creating models to distinguish true variant calls from artifacts"
   ]
  },
  {
   "cell_type": "markdown",
   "id": "1cc8dea7-d1f2-4509-b93a-0cddc06b4f62",
   "metadata": {},
   "source": [
    "Analysis was performed on a high performance computer (HPC) cluster running CentOS Linux with SLURM as a resource manager & job scheduler."
   ]
  },
  {
   "cell_type": "markdown",
   "id": "f2f2788c-5559-41cd-b288-efbdc64ae429",
   "metadata": {},
   "source": [
    "## 1. Mapping to hg38 human reference genome (minimap2, samtools)"
   ]
  },
  {
   "cell_type": "markdown",
   "id": "812787ba-0e52-4a12-a6ac-505f2f2ec77c",
   "metadata": {},
   "source": [
    "We can use a simple bash script to loop over all the FASTQ files in a directory and submit them as batch jobs to the HPC using the SLURM scheduler"
   ]
  },
  {
   "cell_type": "code",
   "execution_count": 1,
   "id": "bbed6e8b-b0b9-49d4-843f-d591f31aeee0",
   "metadata": {},
   "outputs": [
    {
     "name": "stdout",
     "output_type": "stream",
     "text": [
      "#!/bin/bash\n",
      "# loop over all *.fastq files in the directory input_dir\n",
      "# print the filename (so we have some visual progress indicator)\n",
      "# then submit to SLURM\n",
      "\n",
      "\n",
      "slurm_script=$1        # SLURM SCRIPT OF INTEREST\n",
      "input_dir=$2             # DIRECTORY OF INTEREST\n",
      "output_dir=$3          # OUTPUT DIRECTORY\n",
      "\n",
      "for FILE in \"${input_dir}\"*.fastq; do\n",
      "echo ${FILE}\n",
      "sbatch $slurm_script \\\n",
      "    ${FILE} \\\n",
      "    $output_dir\n",
      "sleep 1 # pause to be kind to the scheduler\n",
      "done"
     ]
    }
   ],
   "source": [
    "!cat ~/tools/slurm_scripts/bash_slurm_sbatch_loop_directory_files_fastq_221221.sh"
   ]
  },
  {
   "cell_type": "markdown",
   "id": "1685536d-8fb4-4e18-b81c-69ea4ef295f1",
   "metadata": {},
   "source": [
    "---\n",
    "In this case, the SLURM job will be mapping each of the 52 FASTQ files to the hg38 human reference genome using minimap2, the sequence aligner recommended by Oxford Nanopore Technologies. To output a sorted BAM file, samtools is used on the output of minimap2."
   ]
  },
  {
   "cell_type": "code",
   "execution_count": 3,
   "id": "ee888683-3d4a-40da-9819-cac2772ac6dd",
   "metadata": {},
   "outputs": [
    {
     "name": "stdout",
     "output_type": "stream",
     "text": [
      "#!/bin/bash\n",
      "#\n",
      "#SBATCH --job-name=minimap2_samtoolsBam_RG_221221\n",
      "#SBATCH --output=/home/fmbuga/tools/slurm_scripts/slurm_out_err/minimap2_samtoolsBam_RG_221221_%j.out\n",
      "#SBATCH --error=/home/fmbuga/tools/slurm_scripts/slurm_out_err/minimap2_samtoolsBam_RG_221221_%j.err\n",
      "#\n",
      "#SBATCH --ntasks=1\n",
      "#SBATCH --cpus-per-task=28\n",
      "#SBATCH --mem-per-cpu=4G\n",
      "\n",
      "datenow=$(date)\n",
      "echo $datenow\n",
      "echo \"\"\n",
      "srun hostname\n",
      "echo \"\"\n",
      "\n",
      "start=$(date +%s)\n",
      "echo \"start time: $start\"\n",
      "echo \"\"\n",
      "echo \"hostname: $HOSTNAME\"\n",
      "echo \"\"\n",
      "\n",
      "\n",
      "##################\n",
      "\n",
      "eval \"$(conda shell.bash hook)\"\n",
      "conda activate minimap2_224                      ### CONDA ENVIRONMENT NAME\n",
      "conda info\n",
      "echo \"\"\n",
      "\n",
      "call=\"minimap2 --version\" # to get the version\n",
      "echo $call\n",
      "eval $call\n",
      "echo \"\"\n",
      "\n",
      "call=\"samtools --version\" # to get the version\n",
      "echo $call\n",
      "eval $call\n",
      "echo \"\"\n",
      "\n",
      "call=\"bcftools --version\" # to get the version\n",
      "echo $call\n",
      "eval $call\n",
      "echo \"\"\n",
      "\n",
      "fastq_path=$1\n",
      "bam_output_dir=$2\n",
      "\n",
      "flowcell_asic_id=$(echo $fastq_path | awk -F'[/_.]' '{print $4}')    # https://github.com/nanopore-wgs-consortium/NA12878/blob/master/Genome.md\n",
      "echo $flowcell_asic_id\n",
      "echo \"\"\n",
      "\n",
      "\n",
      "call=$(minimap2 \\\n",
      "        -t 28 \\\n",
      "        -R \"@RG\\tID:$flowcell_asic_id\\tDS:$flowcell_asic_id\\tSM:NA12878-nanopore-wgs\" \\\n",
      "        -a \\\n",
      "        ~/tools/hg38/hg38.fa \\\n",
      "        ~/nanopore/rogstrix/dorado/$fastq_path | \\\n",
      "            samtools view -uh | \\\n",
      "                samtools sort -o \"$bam_output_dir$flowcell_asic_id\".bam)\n",
      "echo $call\n",
      "eval $call\n",
      "echo \"\"\n",
      "\n",
      "echo \"minimap2 -> samtoolsBam COMPLETE.\"\n",
      "echo \"\"\n",
      "    \n",
      "##################\n",
      "\n",
      "\n",
      "echo \"\"\n",
      "end=$(date +%s)\n",
      "echo \"end time: $end\"\n",
      "runtime_s=$(echo $(( end - start )))\n",
      "echo \"total run time(s): $runtime_s\"\n",
      "sec_per_min=60\n",
      "sec_per_hr=3600\n",
      "runtime_m=$(echo \"scale=2; $runtime_s / $sec_per_min;\" | bc)\n",
      "echo \"total run time(m): $runtime_m\"\n",
      "runtime_h=$(echo \"scale=2; $runtime_s / $sec_per_hr;\" | bc)\n",
      "echo \"total run time(h): $runtime_h\"\n",
      "\n",
      "\n",
      "\n",
      "\n"
     ]
    }
   ],
   "source": [
    "!cat ~/tools/slurm_scripts/minimap2_samtoolsBam_RG_221221_slurm.sh"
   ]
  },
  {
   "cell_type": "markdown",
   "id": "e562729f-1e79-4367-b46b-1238b3bfdcf5",
   "metadata": {},
   "source": [
    "---\n",
    "And here is the actual job submission to SLURM:"
   ]
  },
  {
   "cell_type": "code",
   "execution_count": 5,
   "id": "c401a7c9-a3f5-49a8-b64b-7be8062aca53",
   "metadata": {},
   "outputs": [
    {
     "name": "stdout",
     "output_type": "stream",
     "text": [
      "00_fastq_raw/*.fastq\n",
      "Submitted batch job 652252\n"
     ]
    }
   ],
   "source": [
    "# submit fastq-to-bam jobs to slurm\n",
    "\n",
    "!bash ~/tools/slurm_scripts/bash_slurm_sbatch_loop_directory_files_fastq_221221.sh \\\n",
    "    ~/tools/slurm_scripts/minimap2_samtoolsBam_RG_221221_slurm.sh \\\n",
    "    00_fastq_raw/ \\\n",
    "    01_bam_raw/"
   ]
  },
  {
   "cell_type": "code",
   "execution_count": 15,
   "id": "f99b5d3a-3352-46cf-999b-e6ab388e651f",
   "metadata": {},
   "outputs": [
    {
     "name": "stdout",
     "output_type": "stream",
     "text": [
      "/home/fmbuga/nanopore/rogstrix/dorado/01_bam_raw/FAB39043-3709921973.bam\n",
      "/home/fmbuga/nanopore/rogstrix/dorado/01_bam_raw/FAB39075-4246400039.bam\n",
      "/home/fmbuga/nanopore/rogstrix/dorado/01_bam_raw/FAB39088-288418386.bam\n",
      "/home/fmbuga/nanopore/rogstrix/dorado/01_bam_raw/FAB41174-3976885577.bam\n",
      "/home/fmbuga/nanopore/rogstrix/dorado/01_bam_raw/FAB42205-3573838535.bam\n",
      "/home/fmbuga/nanopore/rogstrix/dorado/01_bam_raw/FAB42260-4177064552.bam\n",
      "/home/fmbuga/nanopore/rogstrix/dorado/01_bam_raw/FAB42316-216722908.bam\n",
      "/home/fmbuga/nanopore/rogstrix/dorado/01_bam_raw/FAB42395-4178605061.bam\n",
      "/home/fmbuga/nanopore/rogstrix/dorado/01_bam_raw/FAB42451-4239353418.bam\n",
      "/home/fmbuga/nanopore/rogstrix/dorado/01_bam_raw/FAB42473-4179682758.bam\n",
      "/home/fmbuga/nanopore/rogstrix/dorado/01_bam_raw/FAB42476-3843483077.bam\n",
      "/home/fmbuga/nanopore/rogstrix/dorado/01_bam_raw/FAB42561-356443753.bam\n",
      "/home/fmbuga/nanopore/rogstrix/dorado/01_bam_raw/FAB42704-87746129.bam\n",
      "/home/fmbuga/nanopore/rogstrix/dorado/01_bam_raw/FAB42706-4111103328.bam\n",
      "/home/fmbuga/nanopore/rogstrix/dorado/01_bam_raw/FAB42798-3306352129.bam\n",
      "/home/fmbuga/nanopore/rogstrix/dorado/01_bam_raw/FAB42804-84744914.bam\n",
      "/home/fmbuga/nanopore/rogstrix/dorado/01_bam_raw/FAB42810-352384898.bam\n",
      "/home/fmbuga/nanopore/rogstrix/dorado/01_bam_raw/FAB42828-288548394.bam\n",
      "/home/fmbuga/nanopore/rogstrix/dorado/01_bam_raw/FAB43577-3574887596.bam\n",
      "/home/fmbuga/nanopore/rogstrix/dorado/01_bam_raw/FAB44989-2567311907.bam\n",
      "/home/fmbuga/nanopore/rogstrix/dorado/01_bam_raw/FAB45271-152889212.bam\n",
      "/home/fmbuga/nanopore/rogstrix/dorado/01_bam_raw/FAB45277-86567043.bam\n",
      "/home/fmbuga/nanopore/rogstrix/dorado/01_bam_raw/FAB45280-222619780.bam\n",
      "/home/fmbuga/nanopore/rogstrix/dorado/01_bam_raw/FAB45321-19064779.bam\n",
      "/home/fmbuga/nanopore/rogstrix/dorado/01_bam_raw/FAB45321-285174896.bam\n",
      "/home/fmbuga/nanopore/rogstrix/dorado/01_bam_raw/FAB45332-551111640.bam\n",
      "/home/fmbuga/nanopore/rogstrix/dorado/01_bam_raw/FAB46664-288286712.bam\n",
      "/home/fmbuga/nanopore/rogstrix/dorado/01_bam_raw/FAB46683-4246923067.bam\n",
      "/home/fmbuga/nanopore/rogstrix/dorado/01_bam_raw/FAB49164-4045668814.bam\n",
      "/home/fmbuga/nanopore/rogstrix/dorado/01_bam_raw/FAB49712-622291475.bam\n",
      "/home/fmbuga/nanopore/rogstrix/dorado/01_bam_raw/FAB49908-481119249.bam\n",
      "/home/fmbuga/nanopore/rogstrix/dorado/01_bam_raw/FAB49914-3775529215.bam\n",
      "/home/fmbuga/nanopore/rogstrix/dorado/01_bam_raw/FAF01127-353303576.bam\n",
      "/home/fmbuga/nanopore/rogstrix/dorado/01_bam_raw/FAF01132-84868110.bam\n",
      "/home/fmbuga/nanopore/rogstrix/dorado/01_bam_raw/FAF01169-4245879798.bam\n",
      "/home/fmbuga/nanopore/rogstrix/dorado/01_bam_raw/FAF01253-83756522.bam\n",
      "/home/fmbuga/nanopore/rogstrix/dorado/01_bam_raw/FAF01441-3910073345.bam\n",
      "/home/fmbuga/nanopore/rogstrix/dorado/01_bam_raw/FAF04090-3842965088.bam\n",
      "/home/fmbuga/nanopore/rogstrix/dorado/01_bam_raw/FAF05869-87644245.bam\n",
      "/home/fmbuga/nanopore/rogstrix/dorado/01_bam_raw/FAF09277-3709819546.bam\n",
      "/home/fmbuga/nanopore/rogstrix/dorado/01_bam_raw/FAF09640-4245291640.bam\n",
      "/home/fmbuga/nanopore/rogstrix/dorado/01_bam_raw/FAF09701-4249180049.bam\n",
      "/home/fmbuga/nanopore/rogstrix/dorado/01_bam_raw/FAF09713-4111860526.bam\n",
      "/home/fmbuga/nanopore/rogstrix/dorado/01_bam_raw/FAF09968-3439856925.bam\n",
      "/home/fmbuga/nanopore/rogstrix/dorado/01_bam_raw/FAF10039-2901545329.bam\n",
      "/home/fmbuga/nanopore/rogstrix/dorado/01_bam_raw/FAF13748-17958431.bam\n",
      "/home/fmbuga/nanopore/rogstrix/dorado/01_bam_raw/FAF14035-3976726082.bam\n",
      "/home/fmbuga/nanopore/rogstrix/dorado/01_bam_raw/FAF15586-82266371.bam\n",
      "/home/fmbuga/nanopore/rogstrix/dorado/01_bam_raw/FAF15630-4244782843.bam\n",
      "/home/fmbuga/nanopore/rogstrix/dorado/01_bam_raw/FAF15665-16056159.bam\n",
      "/home/fmbuga/nanopore/rogstrix/dorado/01_bam_raw/FAF15694-4109802543.bam\n",
      "/home/fmbuga/nanopore/rogstrix/dorado/01_bam_raw/FAF18554-4178920553.bam\n",
      "52\n"
     ]
    }
   ],
   "source": [
    "# check the output and confirm all 52 files were processed\n",
    "!ls -1 ~/nanopore/rogstrix/dorado/01_bam_raw/*.bam \\\n",
    "    | tee >(wc -l)"
   ]
  },
  {
   "cell_type": "code",
   "execution_count": 17,
   "id": "25481e2f-7bf1-4009-af31-283d0ea6cd74",
   "metadata": {},
   "outputs": [
    {
     "name": "stdout",
     "output_type": "stream",
     "text": [
      "1681556 + 0 in total (QC-passed reads + QC-failed reads)\n",
      "719983 + 0 primary\n",
      "505430 + 0 secondary\n",
      "456143 + 0 supplementary\n",
      "0 + 0 duplicates\n",
      "0 + 0 primary duplicates\n",
      "1617881 + 0 mapped (96.21% : N/A)\n",
      "656308 + 0 primary mapped (91.16% : N/A)\n"
     ]
    }
   ],
   "source": [
    "# check how mapping went\n",
    "!samtools flagstats \\\n",
    "    --threads 28 \\\n",
    "    --verbosity 5 \\\n",
    "    /home/fmbuga/nanopore/rogstrix/dorado/01_bam_raw/FAF01132-84868110.bam | head -n 8"
   ]
  },
  {
   "cell_type": "markdown",
   "id": "442ba5f9-473a-4bf9-9908-0e1ada2d4351",
   "metadata": {},
   "source": [
    "## 2. Marking duplicates (samtools)"
   ]
  },
  {
   "cell_type": "markdown",
   "id": "b6052eb8-6d91-4819-9e3a-b9cb62d3fb7b",
   "metadata": {},
   "source": [
    "Next, we [mark duplicates](http://www.htslib.org/doc/samtools-markdup.html) on the 52 BAM files using `samtools markdup`."
   ]
  },
  {
   "cell_type": "markdown",
   "id": "873083ac-591c-4b1e-8dfa-ae0ec607c85c",
   "metadata": {},
   "source": [
    "We can re-purpose the looping bash script used above in the mapping step for SLURM job submission with a slight change so that it loops over all BAM files in a folder instead of all FASTQ files"
   ]
  },
  {
   "cell_type": "code",
   "execution_count": 1,
   "id": "2ed6635b-2c8a-4ebe-b02b-16e0d86fd1a9",
   "metadata": {},
   "outputs": [
    {
     "name": "stdout",
     "output_type": "stream",
     "text": [
      "#!/bin/bash\n",
      "# loop over all *.bam files in the directory input_dir\n",
      "# print the filename (so we have some visual progress indicator)\n",
      "# then submit to SLURM\n",
      "\n",
      "\n",
      "slurm_script=$1        # SLURM SCRIPT OF INTEREST\n",
      "input_dir=$2             # DIRECTORY OF INTEREST                   \n",
      "output_dir=$3             # OUTPUT DIRECTORY                   \n",
      "\n",
      "\n",
      "for FILE in \"${input_dir}\"*.bam; do\n",
      "echo ${FILE}\n",
      "sbatch $slurm_script \\\n",
      "    ${FILE} \\\n",
      "    $output_dir\n",
      "sleep 1 # pause to be kind to the scheduler\n",
      "done"
     ]
    }
   ],
   "source": [
    "!cat ~/tools/slurm_scripts/bash_slurm_sbatch_loop_directory_files_samtools_markdup_221222.sh"
   ]
  },
  {
   "cell_type": "markdown",
   "id": "5aebae47-27a9-4eaa-b855-c2f5c061d438",
   "metadata": {},
   "source": [
    "---\n",
    "In order to use `samtools markdup` to mark duplicates in the BAM files, the reads first have to be [ordered by name](http://www.htslib.org/doc/samtools-markdup.html) (`samtools collate`), annotated with [tags for mate score and mate coordinates](http://www.htslib.org/doc/samtools-fixmate.html) (`samtools fixmate`) and [sorted in position order](http://www.htslib.org/doc/samtools-sort.html) (`samtools sort`). These commands can be chained with pipes with the BAM files going in and outputting processed BAM files with duplicates marked."
   ]
  },
  {
   "cell_type": "code",
   "execution_count": 2,
   "id": "1d29a747-d0d5-4384-8ccb-8136572add3e",
   "metadata": {},
   "outputs": [
    {
     "name": "stdout",
     "output_type": "stream",
     "text": [
      "#!/bin/bash\n",
      "#\n",
      "#SBATCH --job-name=samtools_collate_fixmate_sort_markdup_221222\n",
      "#SBATCH --output=/home/fmbuga/tools/slurm_scripts/slurm_out_err/samtools_collate_fixmate_sort_markdup_221222_%j.out\n",
      "#SBATCH --error=/home/fmbuga/tools/slurm_scripts/slurm_out_err/samtools_collate_fixmate_sort_markdup_221222_%j.err\n",
      "#\n",
      "#SBATCH --ntasks=1\n",
      "#SBATCH --cpus-per-task=28\n",
      "#SBATCH --mem-per-cpu=4G\n",
      "\n",
      "datenow=$(date)\n",
      "echo $datenow\n",
      "echo \"\"\n",
      "srun hostname\n",
      "echo \"\"\n",
      "\n",
      "start=$(date +%s)\n",
      "echo \"start time: $start\"\n",
      "echo \"\"\n",
      "echo \"hostname: $HOSTNAME\"\n",
      "echo \"\"\n",
      "\n",
      "\n",
      "##################\n",
      "\n",
      "eval \"$(conda shell.bash hook)\"\n",
      "conda activate minimap2_224                      ### CONDA ENVIRONMENT NAME\n",
      "conda info\n",
      "echo \"\"\n",
      "\n",
      "call=\"samtools --version\" # to get the version\n",
      "echo $call\n",
      "eval $call\n",
      "echo \"\"\n",
      "\n",
      "input_bam=$1\n",
      "output_dir=$2\n",
      "\n",
      "out_name=$(basename $input_bam .bam)\n",
      "\n",
      "call=$(samtools collate \\\n",
      "    -Ou \\\n",
      "    --threads 28 \\\n",
      "    $input_bam | \\\n",
      "        samtools fixmate \\\n",
      "            - \\\n",
      "            - \\\n",
      "            --threads 28 \\\n",
      "            -u | \\\n",
      "            samtools sort \\\n",
      "                - \\\n",
      "                --threads 28 \\\n",
      "                -u |\\\n",
      "                samtools markdup \\\n",
      "                    - \\\n",
      "                    --threads 28 \\\n",
      "                    -sf \"$output_dir$out_name\"_collate_fixmate_sort_markdup_bam.markdupstats \\\n",
      "                    --write-index \\\n",
      "                    \"$output_dir$out_name\"_collate_fixmate_sort_markdup.bam)\n",
      "\n",
      "echo $call\n",
      "eval $call\n",
      "echo \"\"\n",
      "\n",
      "echo \"samtools collate > fixmate > sort > markdup COMPLETE.\"\n",
      "echo \"\"\n",
      "    \n",
      "##################\n",
      "\n",
      "\n",
      "echo \"\"\n",
      "end=$(date +%s)\n",
      "echo \"end time: $end\"\n",
      "runtime_s=$(echo $(( end - start )))\n",
      "echo \"total run time(s): $runtime_s\"\n",
      "sec_per_min=60\n",
      "sec_per_hr=3600\n",
      "runtime_m=$(echo \"scale=2; $runtime_s / $sec_per_min;\" | bc)\n",
      "echo \"total run time(m): $runtime_m\"\n",
      "runtime_h=$(echo \"scale=2; $runtime_s / $sec_per_hr;\" | bc)\n",
      "echo \"total run time(h): $runtime_h\"\n",
      "\n",
      "\n",
      "\n",
      "\n"
     ]
    }
   ],
   "source": [
    "# the SLURM job script for marking duplicates\n",
    "!cat ~/tools/slurm_scripts/samtools_collate_fixmate_sort_markdup_221222_slurm.sh"
   ]
  },
  {
   "cell_type": "markdown",
   "id": "583733f5-e9dc-458e-ae81-c3d5f8a77891",
   "metadata": {},
   "source": [
    "---\n",
    "And the SLURM job submission with the looping bash script"
   ]
  },
  {
   "cell_type": "code",
   "execution_count": 3,
   "id": "960f5241-8b97-4bd0-8210-fb1ecf64156b",
   "metadata": {},
   "outputs": [
    {
     "name": "stdout",
     "output_type": "stream",
     "text": [
      "01_bam_raw/*.bam\n",
      "Submitted batch job 656214\n"
     ]
    }
   ],
   "source": [
    "!bash ~/tools/slurm_scripts/bash_slurm_sbatch_loop_directory_files_samtools_markdup_221222.sh \\\n",
    "    ~/tools/slurm_scripts/samtools_collate_fixmate_sort_markdup_221222_slurm.sh \\\n",
    "    01_bam_raw/ \\\n",
    "    02_bam_markdup/"
   ]
  },
  {
   "cell_type": "markdown",
   "id": "b2163a44-ce95-4e8a-aaa0-d66d352dfc47",
   "metadata": {},
   "source": [
    "---\n",
    "Let's have a look at one of the BAM files before and after marking duplicates using `samtools flagstats`"
   ]
  },
  {
   "cell_type": "code",
   "execution_count": 4,
   "id": "ba097901-746b-43c8-8a6f-fa77221a153b",
   "metadata": {},
   "outputs": [
    {
     "name": "stdout",
     "output_type": "stream",
     "text": [
      "1681556 + 0 in total (QC-passed reads + QC-failed reads)\n",
      "719983 + 0 primary\n",
      "505430 + 0 secondary\n",
      "456143 + 0 supplementary\n",
      "0 + 0 duplicates\n",
      "0 + 0 primary duplicates\n",
      "1617881 + 0 mapped (96.21% : N/A)\n",
      "656308 + 0 primary mapped (91.16% : N/A)\n"
     ]
    }
   ],
   "source": [
    "!samtools flagstats \\\n",
    "    --threads 28 \\\n",
    "    --verbosity 5 \\\n",
    "    ~/nanopore/rogstrix/dorado/01_bam_raw/FAF01132-84868110.bam | head -n 8"
   ]
  },
  {
   "cell_type": "code",
   "execution_count": 5,
   "id": "1d59926f-9e11-4526-981a-6f2b4d0abc07",
   "metadata": {},
   "outputs": [
    {
     "name": "stdout",
     "output_type": "stream",
     "text": [
      "1681556 + 0 in total (QC-passed reads + QC-failed reads)\n",
      "719983 + 0 primary\n",
      "505430 + 0 secondary\n",
      "456143 + 0 supplementary\n",
      "17979 + 0 duplicates\n",
      "17979 + 0 primary duplicates\n",
      "1617881 + 0 mapped (96.21% : N/A)\n",
      "656308 + 0 primary mapped (91.16% : N/A)\n"
     ]
    }
   ],
   "source": [
    "!samtools flagstats \\\n",
    "    --threads 28 \\\n",
    "    --verbosity 5 \\\n",
    "    ~/nanopore/rogstrix/dorado/02_bam_markdup/FAF01132-84868110_collate_fixmate_sort_markdup.bam | head -n 8"
   ]
  },
  {
   "cell_type": "markdown",
   "id": "17fac6c7-8a3a-4c76-b209-d1d2218c1858",
   "metadata": {},
   "source": [
    "We see that for this BAM file, 17,979 of the 1,681,556 have been marked as duplicates (~1%)"
   ]
  },
  {
   "cell_type": "markdown",
   "id": "393c6629-42bc-4f2f-ad19-fbe834ce350c",
   "metadata": {},
   "source": [
    "## 3. Merging the resulting 52 BAM files into 1 file (samtools)"
   ]
  },
  {
   "cell_type": "markdown",
   "id": "ad935387-ab41-4c2f-ab19-61efec7fe85d",
   "metadata": {},
   "source": [
    "Next, we use `samtools merge` to [combine the 52 BAM files into one](http://www.htslib.org/doc/samtools-merge.html)."
   ]
  },
  {
   "cell_type": "code",
   "execution_count": 7,
   "id": "ab971339-dcc8-429d-aab9-97b2210d3922",
   "metadata": {},
   "outputs": [
    {
     "name": "stdout",
     "output_type": "stream",
     "text": [
      "#!/bin/bash\n",
      "#\n",
      "#SBATCH --job-name=samtools_merge_221128\n",
      "#SBATCH --output=/home/fmbuga/tools/slurm_scripts/slurm_out_err/samtools_merge_221128_%j.out\n",
      "#SBATCH --error=/home/fmbuga/tools/slurm_scripts/slurm_out_err/samtools_merge_221128_%j.err\n",
      "#\n",
      "#SBATCH --ntasks=8\n",
      "#SBATCH --cpus-per-task=28\n",
      "#SBATCH --mem-per-cpu=4G\n",
      "\n",
      "\n",
      "datenow=$(date)\n",
      "echo $datenow\n",
      "srun hostname\n",
      "echo \"\"\n",
      "\n",
      "start=$(date +%s)\n",
      "echo \"start time: $start\"\n",
      "echo \"hostname: $HOSTNAME\"\n",
      "echo \"\"\n",
      "\n",
      "\n",
      "##################\n",
      "\n",
      "eval \"$(conda shell.bash hook)\"\n",
      "conda activate minimap2_224                      ### CONDA ENVIRONMENT NAME\n",
      "conda info\n",
      "echo \"\"\n",
      "\n",
      "call=\"samtools --version\"\n",
      "echo $call\n",
      "eval $call\n",
      "echo \"\"\n",
      "\n",
      "out_bam=$1\n",
      "in_bams_dir=$2\n",
      "\n",
      "# samtools merge\n",
      "\n",
      "call=$(samtools merge \\\n",
      "        $out_bam \\\n",
      "        \"${in_bams_dir}\"*.bam \\\n",
      "        --threads 224 \\\n",
      "        --write-index \\\n",
      "        --verbosity 10) # INPUT & OUTPUT BAMS\n",
      "    \n",
      "echo $call\n",
      "eval $call\n",
      "echo \"\"\n",
      "\n",
      "echo \"samtools merge COMPLETE.\"\n",
      "echo \"\"\n",
      "    \n",
      "##################\n",
      "\n",
      "\n",
      "echo \"\"\n",
      "end=$(date +%s)\n",
      "echo \"end time: $end\"\n",
      "runtime_s=$(echo $(( end - start )))\n",
      "echo \"total run time(s): $runtime_s\"\n",
      "sec_per_min=60\n",
      "sec_per_hr=3600\n",
      "runtime_m=$(echo \"scale=2; $runtime_s / $sec_per_min;\" | bc)\n",
      "echo \"total run time(m): $runtime_m\"\n",
      "runtime_h=$(echo \"scale=2; $runtime_s / $sec_per_hr;\" | bc)\n",
      "echo \"total run time(h): $runtime_h\"\n",
      "\n",
      "\n",
      "\n",
      "\n"
     ]
    }
   ],
   "source": [
    "# the SLURM job script for merging all the BAM files in the folder\n",
    "!cat ~/tools/slurm_scripts/samtools_merge_221128_slurm.sh"
   ]
  },
  {
   "cell_type": "markdown",
   "id": "a0a88029-ae07-4aa2-b099-ad0bd0dc3546",
   "metadata": {},
   "source": [
    "---\n",
    "And here's the SLURM job submission:"
   ]
  },
  {
   "cell_type": "code",
   "execution_count": 8,
   "id": "9e07f8b1-fd47-4213-ba90-d034e8fe3aa7",
   "metadata": {},
   "outputs": [
    {
     "name": "stdout",
     "output_type": "stream",
     "text": [
      "Submitted batch job 656248\n"
     ]
    }
   ],
   "source": [
    "!sbatch ~/tools/slurm_scripts/samtools_merge_221128_slurm.sh \\\n",
    "    03_bam_merged/dorado.bam \\\n",
    "    02_bam_markdup/"
   ]
  },
  {
   "cell_type": "markdown",
   "id": "00f4e215-a28c-41d3-827c-8bfab870d559",
   "metadata": {},
   "source": [
    "---\n",
    "Let's see what the stats look like for our final mega BAM file:"
   ]
  },
  {
   "cell_type": "code",
   "execution_count": 9,
   "id": "353679e6-a10e-4535-91d5-d5b119157a53",
   "metadata": {},
   "outputs": [
    {
     "name": "stdout",
     "output_type": "stream",
     "text": [
      "28853957 + 0 in total (QC-passed reads + QC-failed reads)\n",
      "14685190 + 0 primary\n",
      "7758275 + 0 secondary\n",
      "6410492 + 0 supplementary\n",
      "197797 + 0 duplicates\n",
      "197797 + 0 primary duplicates\n",
      "27352195 + 0 mapped (94.80% : N/A)\n",
      "13183428 + 0 primary mapped (89.77% : N/A)\n"
     ]
    }
   ],
   "source": [
    "!samtools flagstats \\\n",
    "    --threads 28 \\\n",
    "    ~/nanopore/rogstrix/dorado/03_bam_merged/dorado.bam | head -n 8"
   ]
  },
  {
   "cell_type": "markdown",
   "id": "46aa3a41-fc77-4a84-9819-d707cf67ea2f",
   "metadata": {},
   "source": [
    "So about 1% of the reads are duplicates"
   ]
  },
  {
   "cell_type": "markdown",
   "id": "25ce9dfb-3c62-49ce-9855-e5b0551b7a57",
   "metadata": {},
   "source": [
    "## 4. Calling variants (bcftools)"
   ]
  },
  {
   "cell_type": "markdown",
   "id": "ab9aa1cb-1b66-4218-bbe2-9ec8a6d373e2",
   "metadata": {},
   "source": [
    "We use `bcftools mpileup` to [generate genotype likelihoods](https://samtools.github.io/bcftools/bcftools.html#mpileup) and `bcftools call` to [make the actual variant call](https://samtools.github.io/bcftools/bcftools.html#call). The prior for the expected substitution rate (`bcftools call` parameter -P) is set to a very high value to [make the calling as sensitive as possible](https://samtools.github.io/bcftools/howtos/variant-calling.html) to minimize false negatives with the hope that the model we build will filter out the majority of the false positives that result."
   ]
  },
  {
   "cell_type": "code",
   "execution_count": 11,
   "id": "80c4c8e4-45c0-4150-b384-d1a1a12c05e1",
   "metadata": {},
   "outputs": [
    {
     "name": "stdout",
     "output_type": "stream",
     "text": [
      "#!/bin/bash\n",
      "#\n",
      "#SBATCH --job-name=bcftools_mpileup_call_ONT_P099_221129\n",
      "#SBATCH --output=/home/fmbuga/tools/slurm_scripts/slurm_out_err/bcftools_mpileup_call_ONT_P099_221129_%j.out\n",
      "#SBATCH --error=/home/fmbuga/tools/slurm_scripts/slurm_out_err/bcftools_mpileup_call_ONT_P099_221129_%j.err\n",
      "#\n",
      "#SBATCH --ntasks=1\n",
      "#SBATCH --cpus-per-task=1\n",
      "#SBATCH --mem-per-cpu=120G\n",
      "\n",
      "\n",
      "# \"...multithreading ...is currently used only for the compression of the output stream, only when --output-type is b or z\"\n",
      "# https://samtools.github.io/bcftools/bcftools.html\n",
      "# \"Use the -Ou option when piping between bcftools subcommands to speed up performance by removing unnecessary compression/decompression and VCF←→BCF conversion\"\n",
      "# for ONT https://github.com/samtools/bcftools/issues/1666\n",
      "\n",
      "# \"For ONT it may be beneficial to also run bcftools call with a higher -P, eg -P0.01 or -P 0.1\"\n",
      "\n",
      "\n",
      "datenow=$(date)\n",
      "echo $datenow\n",
      "srun hostname\n",
      "echo \"\"\n",
      "\n",
      "start=$(date +%s)\n",
      "echo \"start time: $start\"\n",
      "echo \"hostname: $HOSTNAME\"\n",
      "echo \"\"\n",
      "\n",
      "\n",
      "##################\n",
      "\n",
      "eval \"$(conda shell.bash hook)\"\n",
      "conda activate minimap2_224                      ### CONDA ENVIRONMENT NAME\n",
      "conda info\n",
      "echo \"\"\n",
      "\n",
      "\n",
      "call=\"bcftools --version\"\n",
      "echo $call\n",
      "eval $call\n",
      "echo \"\"\n",
      "\n",
      "input_bam=$1\n",
      "filename=$(basename $1 .bam)\n",
      "output_dir=$2\n",
      "\n",
      "call=$(bcftools mpileup \\\n",
      "    -Ou \\\n",
      "    --config ont \\\n",
      "    -f ~/tools/hg38/hg38.fa \\\n",
      "    $input_bam |\\\n",
      "    bcftools call \\\n",
      "        --ploidy GRCh38 \\\n",
      "        -m -v \\\n",
      "        -P 0.99 \\\n",
      "        -o \"$output_dir$filename\"_bcftools_P_099.vcf) # INPUT BAM\n",
      "    \n",
      "echo $call\n",
      "eval $call\n",
      "echo \"\"\n",
      "\n",
      "echo \"bcftools mpileup call COMPLETE.\"\n",
      "echo \"\"\n",
      "    \n",
      "##################\n",
      "\n",
      "\n",
      "echo \"\"\n",
      "end=$(date +%s)\n",
      "echo \"end time: $end\"\n",
      "runtime_s=$(echo $(( end - start )))\n",
      "echo \"total run time(s): $runtime_s\"\n",
      "sec_per_min=60\n",
      "sec_per_hr=3600\n",
      "runtime_m=$(echo \"scale=2; $runtime_s / $sec_per_min;\" | bc)\n",
      "echo \"total run time(m): $runtime_m\"\n",
      "runtime_h=$(echo \"scale=2; $runtime_s / $sec_per_hr;\" | bc)\n",
      "echo \"total run time(h): $runtime_h\"\n",
      "\n"
     ]
    }
   ],
   "source": [
    "# SLURM job script to do the variant calling\n",
    "!cat ~/tools/slurm_scripts/bcftools_mpileup_call_ONT_P099_221128_slurm.sh"
   ]
  },
  {
   "cell_type": "code",
   "execution_count": 12,
   "id": "695e4df4-763d-422a-ae77-dacbd7a55ae5",
   "metadata": {},
   "outputs": [
    {
     "name": "stdout",
     "output_type": "stream",
     "text": [
      "Submitted batch job 656547\n"
     ]
    }
   ],
   "source": [
    "# submitting the variant calling job to SLURM\n",
    "\n",
    "!sbatch ~/tools/slurm_scripts/bcftools_mpileup_call_ONT_P099_221128_slurm.sh \\\n",
    "    03_bam_merged/dorado.bam \\\n",
    "    04_vcf_raw/"
   ]
  },
  {
   "cell_type": "markdown",
   "id": "8dff9989-fc45-4b2b-84a8-a7dd6feb5583",
   "metadata": {},
   "source": [
    "---\n",
    "Let's have a look at the output VCF using `bcftools stats`:"
   ]
  },
  {
   "cell_type": "code",
   "execution_count": 1,
   "id": "c90a2ce2-bb41-4e3e-93ab-5883cce0c34b",
   "metadata": {},
   "outputs": [
    {
     "name": "stdout",
     "output_type": "stream",
     "text": [
      "SN\t0\tnumber of samples:\t1\n",
      "SN\t0\tnumber of records:\t7223934\n",
      "SN\t0\tnumber of no-ALTs:\t0\n",
      "SN\t0\tnumber of SNPs:\t7223934\n",
      "SN\t0\tnumber of MNPs:\t0\n",
      "SN\t0\tnumber of indels:\t0\n",
      "SN\t0\tnumber of others:\t0\n",
      "SN\t0\tnumber of multiallelic sites:\t16152\n",
      "SN\t0\tnumber of multiallelic SNP sites:\t16152\n"
     ]
    }
   ],
   "source": [
    "# check stats of the VCF file\n",
    "!bcftools stats \\\n",
    "    --threads 28 \\\n",
    "    ~/nanopore/rogstrix/dorado/04_vcf_raw/dorado_bcftools_P_099.vcf | grep ^SN"
   ]
  },
  {
   "cell_type": "markdown",
   "id": "ef0129b9-ca2b-472e-af22-2d4bb0191dba",
   "metadata": {},
   "source": [
    "Over 7.2 million SNPs were called. Considering humans on average only have about 1 SNP per 1000 base pairs, we expect about half of these calls to false positives since the human genome has ~3.2 billion base pairs. Note that indel calling is turned off which is why 0 indels are recorded."
   ]
  },
  {
   "cell_type": "markdown",
   "id": "8d96e00a-d589-4514-9185-661cae159c05",
   "metadata": {},
   "source": [
    "## 5. Intersect with Genome-in-a-Bottle variant calls (bedtools)"
   ]
  },
  {
   "cell_type": "markdown",
   "id": "4492a6ce-3d3a-4e6e-bc73-5d2a4d1bb370",
   "metadata": {},
   "source": [
    "Next, we use `bedtools intersect` to overlap our variant callset with a BED file of NIST's Genome in a Bottle (GIAB) high-confidence variant calls of the same genome so we can compare our variant calls with a gold standard. Furthermore, the comparison will be what is used to create the model for artifactual variants."
   ]
  },
  {
   "cell_type": "code",
   "execution_count": 4,
   "id": "08a13668-ae58-40ac-a1e4-723a12998c70",
   "metadata": {},
   "outputs": [],
   "source": [
    "# intersect dorado vcf with GIAB hi-conf BED\n",
    "\n",
    "!bedtools intersect \\\n",
    "    -a ~/nanopore/rogstrix/dorado/04_vcf_raw/dorado_bcftools_P_099.vcf \\\n",
    "    -b ~/tools/GIAB/GRCh38/HG001_NA12878/NA12878_HG001_GRCh38_GIAB.bed \\\n",
    "    -header > dorado_bcftools_P_099_isec.vcf"
   ]
  },
  {
   "cell_type": "code",
   "execution_count": 5,
   "id": "5644c7cd-a46a-4a49-93b3-0f4d5ffcd1ef",
   "metadata": {},
   "outputs": [
    {
     "name": "stdout",
     "output_type": "stream",
     "text": [
      "SN\t0\tnumber of samples:\t1\n",
      "SN\t0\tnumber of records:\t3618474\n",
      "SN\t0\tnumber of no-ALTs:\t0\n",
      "SN\t0\tnumber of SNPs:\t3618474\n",
      "SN\t0\tnumber of MNPs:\t0\n",
      "SN\t0\tnumber of indels:\t0\n",
      "SN\t0\tnumber of others:\t0\n",
      "SN\t0\tnumber of multiallelic sites:\t4169\n",
      "SN\t0\tnumber of multiallelic SNP sites:\t4169\n"
     ]
    }
   ],
   "source": [
    "# check stats of the VCF file\n",
    "!bcftools stats \\\n",
    "    --threads 28 \\\n",
    "    dorado_bcftools_P_099_isec.vcf | grep ^SN"
   ]
  },
  {
   "cell_type": "markdown",
   "id": "91d1e0c2-2865-4ff3-b16f-c61acb270f79",
   "metadata": {},
   "source": [
    "Filtering our VCF file to only look at the regions where NIST GIAB has high-confidence variant calls leaves us with ~3.6 million SNPs."
   ]
  },
  {
   "cell_type": "markdown",
   "id": "63d03a62-1447-483f-98ed-0ed3a0243830",
   "metadata": {},
   "source": [
    "Onward to analysis in R!\n",
    "\n",
    "---"
   ]
  },
  {
   "cell_type": "markdown",
   "id": "5cbef216-3f85-4e39-a478-a9a2350effaa",
   "metadata": {},
   "source": [
    "TTD\n",
    "- extract coverage data"
   ]
  },
  {
   "cell_type": "code",
   "execution_count": 11,
   "id": "f7078367-d050-49de-94cb-142dcf5d0170",
   "metadata": {},
   "outputs": [
    {
     "data": {
      "image/png": "[encoded data removed]",
      "text/plain": [
       "<Figure size 720x432 with 1 Axes>"
      ]
     },
     "metadata": {
      "needs_background": "light"
     },
     "output_type": "display_data"
    }
   ],
   "source": [
    "import pandas as pd\n",
    "import numpy as np\n",
    "import matplotlib.pyplot as plt\n",
    "import seaborn as sns\n",
    "\n",
    "# Set random seed for reproducibility\n",
    "np.random.seed(42)\n",
    "\n",
    "# Generate random data\n",
    "data_a = np.random.normal(loc=20, scale=6, size=1000)\n",
    "data_b = np.random.normal(loc=15, scale=5, size=1000)\n",
    "\n",
    "# Create a DataFrame\n",
    "df = pd.DataFrame({'A': data_a, 'B': data_b})\n",
    "\n",
    "# Plot probability density curves\n",
    "plt.figure(figsize=(10, 6))  # Adjust the figure size if needed\n",
    "\n",
    "for column in df.columns:\n",
    "    sns.kdeplot(df[column], label=column)  # Use Seaborn's KDE plot for probability density\n",
    "\n",
    "plt.xlabel('Value')\n",
    "plt.ylabel('Probability Density')\n",
    "plt.title('Probability Density Curves')\n",
    "plt.legend()\n",
    "plt.show()\n"
   ]
  },
  {
   "cell_type": "code",
   "execution_count": 12,
   "id": "50855234-2302-414d-9401-68f06e716c60",
   "metadata": {},
   "outputs": [
    {
     "data": {
      "image/png": "[encoded data removed]",
      "text/plain": [
       "<Figure size 864x432 with 2 Axes>"
      ]
     },
     "metadata": {
      "needs_background": "light"
     },
     "output_type": "display_data"
    }
   ],
   "source": [
    "import pandas as pd\n",
    "import numpy as np\n",
    "import matplotlib.pyplot as plt\n",
    "import seaborn as sns\n",
    "\n",
    "# Set random seed for reproducibility\n",
    "np.random.seed(42)\n",
    "\n",
    "# Generate random data\n",
    "data_a = np.random.normal(loc=20, scale=6, size=1000)\n",
    "data_b = np.random.normal(loc=15, scale=5, size=1000)\n",
    "\n",
    "# Create a DataFrame\n",
    "df = pd.DataFrame({'A': data_a, 'B': data_b})\n",
    "\n",
    "# Plot probability density curves and histograms\n",
    "plt.figure(figsize=(12, 6))\n",
    "\n",
    "# Plot probability density curves\n",
    "plt.subplot(1, 2, 1)\n",
    "for column in df.columns:\n",
    "    sns.kdeplot(df[column], label=column)\n",
    "plt.xlabel('Value')\n",
    "plt.ylabel('Probability Density')\n",
    "plt.title('Probability Density Curves')\n",
    "plt.legend()\n",
    "\n",
    "# Plot histograms\n",
    "plt.subplot(1, 2, 2)\n",
    "for column in df.columns:\n",
    "    plt.hist(df[column], bins=20, alpha=0.7, label=column)\n",
    "plt.xlabel('Value')\n",
    "plt.ylabel('Frequency')\n",
    "plt.title('Histograms')\n",
    "plt.legend()\n",
    "\n",
    "plt.tight_layout()\n",
    "plt.show()\n"
   ]
  },
  {
   "cell_type": "code",
   "execution_count": 15,
   "id": "993ca30e-eb1c-46f0-af29-f1a9f776c549",
   "metadata": {},
   "outputs": [
    {
     "data": {
      "image/png": "[encoded data removed]",
      "text/plain": [
       "<Figure size 864x432 with 1 Axes>"
      ]
     },
     "metadata": {
      "needs_background": "light"
     },
     "output_type": "display_data"
    }
   ],
   "source": [
    "import pandas as pd\n",
    "import numpy as np\n",
    "import matplotlib.pyplot as plt\n",
    "import seaborn as sns\n",
    "\n",
    "# Set random seed for reproducibility\n",
    "np.random.seed(42)\n",
    "\n",
    "# Generate random data\n",
    "data_a = np.random.normal(loc=20, scale=6, size=1000)\n",
    "data_b = np.random.normal(loc=15, scale=5, size=1000)\n",
    "\n",
    "# Create a DataFrame\n",
    "df = pd.DataFrame({'A': data_a, 'B': data_b})\n",
    "\n",
    "# Plot probability density curves and normalized histograms in one plot\n",
    "plt.figure(figsize=(12, 6))\n",
    "\n",
    "# Plot probability density curves\n",
    "for column in df.columns:\n",
    "    sns.kdeplot(df[column], label=f'{column} KDE')\n",
    "\n",
    "# Plot normalized histograms\n",
    "for column in df.columns:\n",
    "    plt.hist(df[column], bins=20, density=True, alpha=0.2, label=f'{column} Histogram (Normalized)')\n",
    "\n",
    "plt.xlabel('Value')\n",
    "plt.ylabel('Density')\n",
    "plt.title('Probability Density Curves and Normalized Histograms')\n",
    "plt.legend()\n",
    "plt.show()\n"
   ]
  },
  {
   "cell_type": "code",
   "execution_count": null,
   "id": "ab7954b0-1b96-43f7-8d51-96af31cc5162",
   "metadata": {},
   "outputs": [],
   "source": []
  }
 ],
 "metadata": {
  "kernelspec": {
   "display_name": "Python 3 (ipykernel)",
   "language": "python",
   "name": "python3"
  },
  "language_info": {
   "codemirror_mode": {
    "name": "ipython",
    "version": 3
   },
   "file_extension": ".py",
   "mimetype": "text/x-python",
   "name": "python",
   "nbconvert_exporter": "python",
   "pygments_lexer": "ipython3",
   "version": "3.10.6"
  }
 },
 "nbformat": 4,
 "nbformat_minor": 5
}
