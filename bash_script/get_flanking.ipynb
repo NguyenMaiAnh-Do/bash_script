{
 "cells": [
  {
   "cell_type": "code",
   "execution_count": 132,
   "metadata": {},
   "outputs": [],
   "source": [
    "import pandas as pd\n",
    "m_df = pd.read_csv('/home/ndo/bash_output/variants_df/varscan_df.csv', sep=\",\", encoding='utf-8')"
   ]
  },
  {
   "cell_type": "code",
   "execution_count": 133,
   "metadata": {},
   "outputs": [
    {
     "data": {
      "text/plain": [
       "VAR_CATE\n",
       "FP    2892193\n",
       "TP    2011035\n",
       "FN    1346416\n",
       "Name: count, dtype: int64"
      ]
     },
     "execution_count": 133,
     "metadata": {},
     "output_type": "execute_result"
    }
   ],
   "source": [
    "m_df\n",
    "m_df['VAR_CATE'].value_counts()"
   ]
  },
  {
   "cell_type": "code",
   "execution_count": 134,
   "metadata": {},
   "outputs": [
    {
     "data": {
      "text/plain": [
       "VAR_CATE\n",
       "FP    2892193\n",
       "TP    2011035\n",
       "Name: count, dtype: int64"
      ]
     },
     "execution_count": 134,
     "metadata": {},
     "output_type": "execute_result"
    }
   ],
   "source": [
    "#drop the old FN\n",
    "m_df.drop(m_df[m_df.VAR_CATE == 'FN'].index, inplace=True)\n",
    "m_df['VAR_CATE'].value_counts()"
   ]
  },
  {
   "cell_type": "code",
   "execution_count": 135,
   "metadata": {},
   "outputs": [],
   "source": [
    "# adding the filter fn\n",
    "fn = pd.read_csv('/home/ndo/bash_output/05_bedtools_intersect/True_FN.bed', \n",
    "            sep='\\t', header=None)\n",
    "\n",
    "fn.rename(columns={0 : 'CHROM', 1 : \"START\", 2 : \"END\"}, inplace=True)"
   ]
  },
  {
   "cell_type": "code",
   "execution_count": 136,
   "metadata": {},
   "outputs": [],
   "source": [
    "fn.drop(columns=['START'], inplace=True)"
   ]
  },
  {
   "cell_type": "code",
   "execution_count": 137,
   "metadata": {},
   "outputs": [],
   "source": [
    "fn.rename(columns={'END' : 'POS'}, inplace=True)"
   ]
  },
  {
   "cell_type": "code",
   "execution_count": 138,
   "metadata": {},
   "outputs": [
    {
     "data": {
      "text/plain": [
       "CHROM  POS        VAR_CATE\n",
       "chr16  69659135   FN          24\n",
       "chr13  34033596   FN          21\n",
       "chr4   67136      FN          20\n",
       "chr13  34033607   FN          20\n",
       "chr20  12140805   FN          16\n",
       "                              ..\n",
       "chr2   56752045   FN           1\n",
       "       56737504   FN           1\n",
       "       56700243   FN           1\n",
       "       56681713   FN           1\n",
       "chr9   138221925  FN           1\n",
       "Name: count, Length: 540277, dtype: int64"
      ]
     },
     "execution_count": 138,
     "metadata": {},
     "output_type": "execute_result"
    }
   ],
   "source": [
    "fn['VAR_CATE'] = 'FN'\n",
    "fn.value_counts()"
   ]
  },
  {
   "cell_type": "markdown",
   "metadata": {},
   "source": [
    "vcf file has 1-based position, purpose is to convert this vcf pos to bed files of left and right flanking sequence (0-based).\n",
    "from the bed files extract the flanking sequences using bedtools getfasta"
   ]
  },
  {
   "cell_type": "code",
   "execution_count": 139,
   "metadata": {},
   "outputs": [
    {
     "data": {
      "text/plain": [
       "CHROM  POS        VAR_CATE\n",
       "chr10  133668408  FP          3\n",
       "       133668332  FP          3\n",
       "       125895968  FP          3\n",
       "       133668414  FP          3\n",
       "       133668351  FP          3\n",
       "                             ..\n",
       "chr16  10242512   TP          1\n",
       "       10242017   FP          1\n",
       "       10236247   TP          1\n",
       "       10235844   FP          1\n",
       "chr9   138222748  FP          1\n",
       "Name: count, Length: 4899587, dtype: int64"
      ]
     },
     "execution_count": 139,
     "metadata": {},
     "output_type": "execute_result"
    }
   ],
   "source": [
    "m_df = m_df[['CHROM', 'POS','VAR_CATE']]\n",
    "m_df.value_counts()"
   ]
  },
  {
   "cell_type": "code",
   "execution_count": 140,
   "metadata": {},
   "outputs": [],
   "source": [
    "# combine the two df\n",
    "\n",
    "df = pd.concat([m_df, fn])\n",
    "\n"
   ]
  },
  {
   "cell_type": "code",
   "execution_count": 141,
   "metadata": {},
   "outputs": [
    {
     "data": {
      "text/plain": [
       "CHROM  POS        VAR_CATE\n",
       "chr16  69659135   FN          24\n",
       "chr13  34033596   FN          21\n",
       "chr4   67136      FN          20\n",
       "chr13  34033607   FN          20\n",
       "chr2   132362567  FN          16\n",
       "                              ..\n",
       "chr16  50931442   FP           1\n",
       "       50931418   FP           1\n",
       "       50930664   TP           1\n",
       "       50930362   TP           1\n",
       "chr9   138222748  FP           1\n",
       "Name: count, Length: 5439864, dtype: int64"
      ]
     },
     "execution_count": 141,
     "metadata": {},
     "output_type": "execute_result"
    }
   ],
   "source": [
    "df.value_counts()"
   ]
  },
  {
   "cell_type": "code",
   "execution_count": 142,
   "metadata": {},
   "outputs": [],
   "source": [
    "#EXTRACT 201 BASES AROUND VARIANT INCLUDING THE CURRENT VARIANT. 100 FROM THE LEFT AND 100 TO THE RIGHT\n",
    "\n",
    "\n",
    "# left_df = df.copy(deep=True)\n",
    "\n",
    "\n",
    "# left_df['START'] = left_df['POS'] - 101 #start is incluive\n",
    "# left_df['END'] = left_df['POS']\n",
    "# left_df.drop(['POS'], axis=1, inplace=True)\n",
    "# left_df"
   ]
  },
  {
   "cell_type": "code",
   "execution_count": 143,
   "metadata": {},
   "outputs": [
    {
     "data": {
      "text/html": [
       "<div>\n",
       "<style scoped>\n",
       "    .dataframe tbody tr th:only-of-type {\n",
       "        vertical-align: middle;\n",
       "    }\n",
       "\n",
       "    .dataframe tbody tr th {\n",
       "        vertical-align: top;\n",
       "    }\n",
       "\n",
       "    .dataframe thead th {\n",
       "        text-align: right;\n",
       "    }\n",
       "</style>\n",
       "<table border=\"1\" class=\"dataframe\">\n",
       "  <thead>\n",
       "    <tr style=\"text-align: right;\">\n",
       "      <th></th>\n",
       "      <th>CHROM</th>\n",
       "      <th>VAR_CATE</th>\n",
       "      <th>START</th>\n",
       "      <th>END</th>\n",
       "    </tr>\n",
       "  </thead>\n",
       "  <tbody>\n",
       "    <tr>\n",
       "      <th>0</th>\n",
       "      <td>chr1</td>\n",
       "      <td>FP</td>\n",
       "      <td>601336</td>\n",
       "      <td>601536</td>\n",
       "    </tr>\n",
       "    <tr>\n",
       "      <th>1</th>\n",
       "      <td>chr1</td>\n",
       "      <td>FP</td>\n",
       "      <td>601567</td>\n",
       "      <td>601767</td>\n",
       "    </tr>\n",
       "    <tr>\n",
       "      <th>2</th>\n",
       "      <td>chr1</td>\n",
       "      <td>FP</td>\n",
       "      <td>604285</td>\n",
       "      <td>604485</td>\n",
       "    </tr>\n",
       "    <tr>\n",
       "      <th>3</th>\n",
       "      <td>chr1</td>\n",
       "      <td>FP</td>\n",
       "      <td>604431</td>\n",
       "      <td>604631</td>\n",
       "    </tr>\n",
       "    <tr>\n",
       "      <th>4</th>\n",
       "      <td>chr1</td>\n",
       "      <td>FP</td>\n",
       "      <td>604626</td>\n",
       "      <td>604826</td>\n",
       "    </tr>\n",
       "    <tr>\n",
       "      <th>...</th>\n",
       "      <td>...</td>\n",
       "      <td>...</td>\n",
       "      <td>...</td>\n",
       "      <td>...</td>\n",
       "    </tr>\n",
       "    <tr>\n",
       "      <th>1071867</th>\n",
       "      <td>chr9</td>\n",
       "      <td>FN</td>\n",
       "      <td>138216261</td>\n",
       "      <td>138216461</td>\n",
       "    </tr>\n",
       "    <tr>\n",
       "      <th>1071868</th>\n",
       "      <td>chr9</td>\n",
       "      <td>FN</td>\n",
       "      <td>138216453</td>\n",
       "      <td>138216653</td>\n",
       "    </tr>\n",
       "    <tr>\n",
       "      <th>1071869</th>\n",
       "      <td>chr9</td>\n",
       "      <td>FN</td>\n",
       "      <td>138217346</td>\n",
       "      <td>138217546</td>\n",
       "    </tr>\n",
       "    <tr>\n",
       "      <th>1071870</th>\n",
       "      <td>chr9</td>\n",
       "      <td>FN</td>\n",
       "      <td>138217346</td>\n",
       "      <td>138217546</td>\n",
       "    </tr>\n",
       "    <tr>\n",
       "      <th>1071871</th>\n",
       "      <td>chr9</td>\n",
       "      <td>FN</td>\n",
       "      <td>138221825</td>\n",
       "      <td>138222025</td>\n",
       "    </tr>\n",
       "  </tbody>\n",
       "</table>\n",
       "<p>5975100 rows × 4 columns</p>\n",
       "</div>"
      ],
      "text/plain": [
       "        CHROM VAR_CATE      START        END\n",
       "0        chr1       FP     601336     601536\n",
       "1        chr1       FP     601567     601767\n",
       "2        chr1       FP     604285     604485\n",
       "3        chr1       FP     604431     604631\n",
       "4        chr1       FP     604626     604826\n",
       "...       ...      ...        ...        ...\n",
       "1071867  chr9       FN  138216261  138216461\n",
       "1071868  chr9       FN  138216453  138216653\n",
       "1071869  chr9       FN  138217346  138217546\n",
       "1071870  chr9       FN  138217346  138217546\n",
       "1071871  chr9       FN  138221825  138222025\n",
       "\n",
       "[5975100 rows x 4 columns]"
      ]
     },
     "execution_count": 143,
     "metadata": {},
     "output_type": "execute_result"
    }
   ],
   "source": [
    "#EXTRACT 201 BASES AROUND VARIANT INCLUDING THE CURRENT VARIANT. 100 FROM THE LEFT AND 100 TO THE RIGHT\n",
    "\n",
    "#convert the current base position to 0-indexed accorind to BED file\n",
    "\n",
    "df['POS']  = df['POS'] - 1\n",
    "df['START'] = df['POS'] - 99 # start pos in BED file is inclusive\n",
    "df['END'] = df['POS'] + 101\n",
    "\n",
    "df.drop(['POS'], axis=1, inplace=True)\n",
    "df\n"
   ]
  },
  {
   "cell_type": "code",
   "execution_count": 144,
   "metadata": {},
   "outputs": [],
   "source": [
    "# right_df = df.copy(deep=True)\n",
    "# right_df['START'] = right_df['POS'] #start is incluive - 1 for bed file and  +1 for next nucleotide\n",
    "# right_df['END'] = right_df['POS'] + 100\n",
    "# right_df.drop(['POS'], axis=1, inplace=True)\n",
    "\n",
    "# right_df\n"
   ]
  },
  {
   "cell_type": "code",
   "execution_count": 145,
   "metadata": {},
   "outputs": [],
   "source": [
    "#reorder the columns postion\n",
    "\n",
    "desired_order = ['CHROM', 'START', 'END', 'VAR_CATE']\n",
    "df = df.reindex(columns=desired_order)"
   ]
  },
  {
   "cell_type": "code",
   "execution_count": 146,
   "metadata": {},
   "outputs": [],
   "source": [
    "tp = df[df['VAR_CATE'] == \"TP\"]\n",
    "fp = df[df['VAR_CATE'] == \"FP\"]\n",
    "fn = df[df['VAR_CATE'] == \"FN\"]\n"
   ]
  },
  {
   "cell_type": "code",
   "execution_count": 147,
   "metadata": {},
   "outputs": [],
   "source": [
    "# left_df.to_csv('/home/ndo/bash_output/left_flanking/left_flanking.bed', sep='\\t', index=False, header=False)\n",
    "# right_df.to_csv('/home/ndo/bash_output/right_flanking/right_flanking.bed', sep='\\t', index=False, header=False)\n",
    "tp.to_csv('/home/ndo/bash_output/flanking/tp.bed', sep='\\t', index=False, header=False)\n",
    "fp.to_csv('/home/ndo/bash_output/flanking/fp.bed', sep='\\t', index=False, header=False)\n",
    "fn.to_csv('/home/ndo/bash_output/flanking/fn.bed', sep='\\t', index=False, header=False)\n"
   ]
  },
  {
   "cell_type": "code",
   "execution_count": 148,
   "metadata": {},
   "outputs": [
    {
     "data": {
      "text/html": [
       "<div>\n",
       "<style scoped>\n",
       "    .dataframe tbody tr th:only-of-type {\n",
       "        vertical-align: middle;\n",
       "    }\n",
       "\n",
       "    .dataframe tbody tr th {\n",
       "        vertical-align: top;\n",
       "    }\n",
       "\n",
       "    .dataframe thead th {\n",
       "        text-align: right;\n",
       "    }\n",
       "</style>\n",
       "<table border=\"1\" class=\"dataframe\">\n",
       "  <thead>\n",
       "    <tr style=\"text-align: right;\">\n",
       "      <th></th>\n",
       "      <th>CHROM</th>\n",
       "      <th>START</th>\n",
       "      <th>END</th>\n",
       "      <th>VAR_CATE</th>\n",
       "    </tr>\n",
       "  </thead>\n",
       "  <tbody>\n",
       "    <tr>\n",
       "      <th>29</th>\n",
       "      <td>chr1</td>\n",
       "      <td>783075</td>\n",
       "      <td>783275</td>\n",
       "      <td>TP</td>\n",
       "    </tr>\n",
       "    <tr>\n",
       "      <th>32</th>\n",
       "      <td>chr1</td>\n",
       "      <td>784760</td>\n",
       "      <td>784960</td>\n",
       "      <td>TP</td>\n",
       "    </tr>\n",
       "    <tr>\n",
       "      <th>33</th>\n",
       "      <td>chr1</td>\n",
       "      <td>785317</td>\n",
       "      <td>785517</td>\n",
       "      <td>TP</td>\n",
       "    </tr>\n",
       "    <tr>\n",
       "      <th>42</th>\n",
       "      <td>chr1</td>\n",
       "      <td>797292</td>\n",
       "      <td>797492</td>\n",
       "      <td>TP</td>\n",
       "    </tr>\n",
       "    <tr>\n",
       "      <th>53</th>\n",
       "      <td>chr1</td>\n",
       "      <td>803946</td>\n",
       "      <td>804146</td>\n",
       "      <td>TP</td>\n",
       "    </tr>\n",
       "    <tr>\n",
       "      <th>...</th>\n",
       "      <td>...</td>\n",
       "      <td>...</td>\n",
       "      <td>...</td>\n",
       "      <td>...</td>\n",
       "    </tr>\n",
       "    <tr>\n",
       "      <th>6249602</th>\n",
       "      <td>chr9</td>\n",
       "      <td>138212410</td>\n",
       "      <td>138212610</td>\n",
       "      <td>TP</td>\n",
       "    </tr>\n",
       "    <tr>\n",
       "      <th>6249610</th>\n",
       "      <td>chr9</td>\n",
       "      <td>138214429</td>\n",
       "      <td>138214629</td>\n",
       "      <td>TP</td>\n",
       "    </tr>\n",
       "    <tr>\n",
       "      <th>6249613</th>\n",
       "      <td>chr9</td>\n",
       "      <td>138214818</td>\n",
       "      <td>138215018</td>\n",
       "      <td>TP</td>\n",
       "    </tr>\n",
       "    <tr>\n",
       "      <th>6249632</th>\n",
       "      <td>chr9</td>\n",
       "      <td>138217768</td>\n",
       "      <td>138217968</td>\n",
       "      <td>TP</td>\n",
       "    </tr>\n",
       "    <tr>\n",
       "      <th>6249635</th>\n",
       "      <td>chr9</td>\n",
       "      <td>138219622</td>\n",
       "      <td>138219822</td>\n",
       "      <td>TP</td>\n",
       "    </tr>\n",
       "  </tbody>\n",
       "</table>\n",
       "<p>2011035 rows × 4 columns</p>\n",
       "</div>"
      ],
      "text/plain": [
       "        CHROM      START        END VAR_CATE\n",
       "29       chr1     783075     783275       TP\n",
       "32       chr1     784760     784960       TP\n",
       "33       chr1     785317     785517       TP\n",
       "42       chr1     797292     797492       TP\n",
       "53       chr1     803946     804146       TP\n",
       "...       ...        ...        ...      ...\n",
       "6249602  chr9  138212410  138212610       TP\n",
       "6249610  chr9  138214429  138214629       TP\n",
       "6249613  chr9  138214818  138215018       TP\n",
       "6249632  chr9  138217768  138217968       TP\n",
       "6249635  chr9  138219622  138219822       TP\n",
       "\n",
       "[2011035 rows x 4 columns]"
      ]
     },
     "execution_count": 148,
     "metadata": {},
     "output_type": "execute_result"
    }
   ],
   "source": [
    "tp"
   ]
  },
  {
   "cell_type": "code",
   "execution_count": 149,
   "metadata": {},
   "outputs": [],
   "source": [
    "\n",
    "%%bash\n",
    "\n",
    "bedtools getfasta -tab \\\n",
    "    -fo /home/ndo/bash_output/flanking/tp_flanking.txt  \\\n",
    "    -fi /home/ndo/GIABv3Ref/GRCh38_GIABv3_no_alt_analysis_set_maskedGRC_decoys_MAP2K3_KMT2C_KCNJ18.fasta \\\n",
    "    -bed /home/ndo/bash_output/flanking/tp.bed\n",
    "\n",
    "bedtools getfasta -tab \\\n",
    "    -fo /home/ndo/bash_output/flanking/fp_flanking.txt  \\\n",
    "    -fi /home/ndo/GIABv3Ref/GRCh38_GIABv3_no_alt_analysis_set_maskedGRC_decoys_MAP2K3_KMT2C_KCNJ18.fasta \\\n",
    "    -bed /home/ndo/bash_output/flanking/fp.bed\n",
    "\n",
    "bedtools getfasta -tab \\\n",
    "    -fo /home/ndo/bash_output/flanking/fn_flanking.txt  \\\n",
    "    -fi /home/ndo/GIABv3Ref/GRCh38_GIABv3_no_alt_analysis_set_maskedGRC_decoys_MAP2K3_KMT2C_KCNJ18.fasta \\\n",
    "    -bed /home/ndo/bash_output/flanking/fn.bed"
   ]
  },
  {
   "cell_type": "code",
   "execution_count": 150,
   "metadata": {},
   "outputs": [],
   "source": [
    "\n",
    "\n",
    "# %%bash\n",
    "\n",
    "# bedtools getfasta -tab \\\n",
    "#     -fo /home/ndo/bash_output/right_flanking/right_flanking.txt  \\\n",
    "#     -fi /home/ndo/GIABv3Ref/GRCh38_GIABv3_no_alt_analysis_set_maskedGRC_decoys_MAP2K3_KMT2C_KCNJ18.fasta \\\n",
    "#     -bed /home/ndo/bash_output/right_flanking/right_flanking.bed"
   ]
  },
  {
   "cell_type": "code",
   "execution_count": 153,
   "metadata": {},
   "outputs": [],
   "source": [
    "# LOAD the flanking region to df\n",
    "\n",
    "tp_flanking = pd.read_csv('/home/ndo/bash_output/flanking/tp_flanking.txt', sep=\"\\t\", header=None, encoding='utf-8')\n",
    "fp_flaking = pd.read_csv('/home/ndo/bash_output/flanking/fp_flanking.txt', sep=\"\\t\", header=None, encoding='utf-8')\n",
    "fn_flaking = pd.read_csv('/home/ndo/bash_output/flanking/fn_flanking.txt', sep=\"\\t\", header=None, encoding='utf-8')\n"
   ]
  },
  {
   "cell_type": "code",
   "execution_count": 154,
   "metadata": {},
   "outputs": [
    {
     "data": {
      "text/html": [
       "<div>\n",
       "<style scoped>\n",
       "    .dataframe tbody tr th:only-of-type {\n",
       "        vertical-align: middle;\n",
       "    }\n",
       "\n",
       "    .dataframe tbody tr th {\n",
       "        vertical-align: top;\n",
       "    }\n",
       "\n",
       "    .dataframe thead th {\n",
       "        text-align: right;\n",
       "    }\n",
       "</style>\n",
       "<table border=\"1\" class=\"dataframe\">\n",
       "  <thead>\n",
       "    <tr style=\"text-align: right;\">\n",
       "      <th></th>\n",
       "      <th>0</th>\n",
       "      <th>1</th>\n",
       "    </tr>\n",
       "  </thead>\n",
       "  <tbody>\n",
       "    <tr>\n",
       "      <th>0</th>\n",
       "      <td>chr1:814517-814717</td>\n",
       "      <td>TGTTATTAGTCTCTAATTATAAGAAGATAATCCAGAAGAGAAAGTC...</td>\n",
       "    </tr>\n",
       "    <tr>\n",
       "      <th>1</th>\n",
       "      <td>chr1:817414-817614</td>\n",
       "      <td>GCCCTTGGTCCGCTGTGGTTGGGCCTGCACCCAAGCCATGAGCACA...</td>\n",
       "    </tr>\n",
       "    <tr>\n",
       "      <th>2</th>\n",
       "      <td>chr1:853776-853976</td>\n",
       "      <td>CCGCCGTGTGGTAAACTGATGAACCCCGACCCTGATCAACATGAGA...</td>\n",
       "    </tr>\n",
       "    <tr>\n",
       "      <th>3</th>\n",
       "      <td>chr1:861247-861447</td>\n",
       "      <td>TGGCCTTAGACAGTTCCCTGCCCTTTGTAAGTACTAACTTAACTCT...</td>\n",
       "    </tr>\n",
       "    <tr>\n",
       "      <th>4</th>\n",
       "      <td>chr1:873448-873648</td>\n",
       "      <td>TGGGATGGGTACCCTTCTCATTAGTAAGATCCGGGAGGAGTACCCA...</td>\n",
       "    </tr>\n",
       "    <tr>\n",
       "      <th>...</th>\n",
       "      <td>...</td>\n",
       "      <td>...</td>\n",
       "    </tr>\n",
       "    <tr>\n",
       "      <th>1071867</th>\n",
       "      <td>chr9:138216261-138216461</td>\n",
       "      <td>CCCATGGCAGTGCGACAGCTGCTTCTTGGCAACTCCACCATGATCA...</td>\n",
       "    </tr>\n",
       "    <tr>\n",
       "      <th>1071868</th>\n",
       "      <td>chr9:138216453-138216653</td>\n",
       "      <td>TGAATGTTGACAGCACAGGAATCAGGTCATACGGCCCTCCCATCTC...</td>\n",
       "    </tr>\n",
       "    <tr>\n",
       "      <th>1071869</th>\n",
       "      <td>chr9:138217346-138217546</td>\n",
       "      <td>AGATTCAGGGCCTGCCCAGGGGCAGAGTGCCCCCAGGACTCGCCCT...</td>\n",
       "    </tr>\n",
       "    <tr>\n",
       "      <th>1071870</th>\n",
       "      <td>chr9:138217346-138217546</td>\n",
       "      <td>AGATTCAGGGCCTGCCCAGGGGCAGAGTGCCCCCAGGACTCGCCCT...</td>\n",
       "    </tr>\n",
       "    <tr>\n",
       "      <th>1071871</th>\n",
       "      <td>chr9:138221825-138222025</td>\n",
       "      <td>GCTCTTAGGGTGGCCCCTAAGTGAGGCTCCTCAGTGGCTCCAGCTA...</td>\n",
       "    </tr>\n",
       "  </tbody>\n",
       "</table>\n",
       "<p>1071872 rows × 2 columns</p>\n",
       "</div>"
      ],
      "text/plain": [
       "                                0  \\\n",
       "0              chr1:814517-814717   \n",
       "1              chr1:817414-817614   \n",
       "2              chr1:853776-853976   \n",
       "3              chr1:861247-861447   \n",
       "4              chr1:873448-873648   \n",
       "...                           ...   \n",
       "1071867  chr9:138216261-138216461   \n",
       "1071868  chr9:138216453-138216653   \n",
       "1071869  chr9:138217346-138217546   \n",
       "1071870  chr9:138217346-138217546   \n",
       "1071871  chr9:138221825-138222025   \n",
       "\n",
       "                                                         1  \n",
       "0        TGTTATTAGTCTCTAATTATAAGAAGATAATCCAGAAGAGAAAGTC...  \n",
       "1        GCCCTTGGTCCGCTGTGGTTGGGCCTGCACCCAAGCCATGAGCACA...  \n",
       "2        CCGCCGTGTGGTAAACTGATGAACCCCGACCCTGATCAACATGAGA...  \n",
       "3        TGGCCTTAGACAGTTCCCTGCCCTTTGTAAGTACTAACTTAACTCT...  \n",
       "4        TGGGATGGGTACCCTTCTCATTAGTAAGATCCGGGAGGAGTACCCA...  \n",
       "...                                                    ...  \n",
       "1071867  CCCATGGCAGTGCGACAGCTGCTTCTTGGCAACTCCACCATGATCA...  \n",
       "1071868  TGAATGTTGACAGCACAGGAATCAGGTCATACGGCCCTCCCATCTC...  \n",
       "1071869  AGATTCAGGGCCTGCCCAGGGGCAGAGTGCCCCCAGGACTCGCCCT...  \n",
       "1071870  AGATTCAGGGCCTGCCCAGGGGCAGAGTGCCCCCAGGACTCGCCCT...  \n",
       "1071871  GCTCTTAGGGTGGCCCCTAAGTGAGGCTCCTCAGTGGCTCCAGCTA...  \n",
       "\n",
       "[1071872 rows x 2 columns]"
      ]
     },
     "execution_count": 154,
     "metadata": {},
     "output_type": "execute_result"
    }
   ],
   "source": [
    "fn_flaking"
   ]
  }
 ],
 "metadata": {
  "kernelspec": {
   "display_name": "Python 3",
   "language": "python",
   "name": "python3"
  },
  "language_info": {
   "codemirror_mode": {
    "name": "ipython",
    "version": 3
   },
   "file_extension": ".py",
   "mimetype": "text/x-python",
   "name": "python",
   "nbconvert_exporter": "python",
   "pygments_lexer": "ipython3",
   "version": "3.12.1"
  }
 },
 "nbformat": 4,
 "nbformat_minor": 2
}
