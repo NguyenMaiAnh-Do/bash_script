{
 "cells": [
  {
   "cell_type": "code",
   "execution_count": 3,
   "id": "f0c7797f-f5c7-4cee-8848-46cc51f52a5c",
   "metadata": {
    "tags": []
   },
   "outputs": [],
   "source": [
    "import pandas as pd"
   ]
  },
  {
   "cell_type": "code",
   "execution_count": 7,
   "id": "51ececee-2d1a-4785-84e8-766a6d7b88d8",
   "metadata": {
    "tags": []
   },
   "outputs": [
    {
     "data": {
      "text/html": [
       "<div>\n",
       "<style scoped>\n",
       "    .dataframe tbody tr th:only-of-type {\n",
       "        vertical-align: middle;\n",
       "    }\n",
       "\n",
       "    .dataframe tbody tr th {\n",
       "        vertical-align: top;\n",
       "    }\n",
       "\n",
       "    .dataframe thead th {\n",
       "        text-align: right;\n",
       "    }\n",
       "</style>\n",
       "<table border=\"1\" class=\"dataframe\">\n",
       "  <thead>\n",
       "    <tr style=\"text-align: right;\">\n",
       "      <th></th>\n",
       "      <th>Unnamed: 0</th>\n",
       "      <th>0</th>\n",
       "      <th>1</th>\n",
       "      <th>labels01</th>\n",
       "      <th>labels012</th>\n",
       "    </tr>\n",
       "  </thead>\n",
       "  <tbody>\n",
       "    <tr>\n",
       "      <th>0</th>\n",
       "      <td>0</td>\n",
       "      <td>chr1:783075-783275</td>\n",
       "      <td>ACTTACATGACCGACATGGTATTTTTATTTGGCAGCGCTGCTCTAA...</td>\n",
       "      <td>0</td>\n",
       "      <td>0</td>\n",
       "    </tr>\n",
       "    <tr>\n",
       "      <th>1</th>\n",
       "      <td>1</td>\n",
       "      <td>chr1:784760-784960</td>\n",
       "      <td>GAAATGAGATATTTATGTAGTCTTAAGGTATCTTCTCACAAATTAT...</td>\n",
       "      <td>0</td>\n",
       "      <td>0</td>\n",
       "    </tr>\n",
       "    <tr>\n",
       "      <th>2</th>\n",
       "      <td>2</td>\n",
       "      <td>chr1:785317-785517</td>\n",
       "      <td>GGGTGACAGGGCATTATATCAGCCACTTATCAACAAACATTTCAGA...</td>\n",
       "      <td>0</td>\n",
       "      <td>0</td>\n",
       "    </tr>\n",
       "    <tr>\n",
       "      <th>3</th>\n",
       "      <td>3</td>\n",
       "      <td>chr1:797292-797492</td>\n",
       "      <td>ACTTTGCTCAATCTTCGCCTTTGGGTTCCTTTAGGTTTATAATGAA...</td>\n",
       "      <td>0</td>\n",
       "      <td>0</td>\n",
       "    </tr>\n",
       "    <tr>\n",
       "      <th>4</th>\n",
       "      <td>4</td>\n",
       "      <td>chr1:803946-804146</td>\n",
       "      <td>TTAGAGGTAACTTTGCTGAACTTGTGAAGAATGGTGTGCAAGGTCC...</td>\n",
       "      <td>0</td>\n",
       "      <td>0</td>\n",
       "    </tr>\n",
       "    <tr>\n",
       "      <th>...</th>\n",
       "      <td>...</td>\n",
       "      <td>...</td>\n",
       "      <td>...</td>\n",
       "      <td>...</td>\n",
       "      <td>...</td>\n",
       "    </tr>\n",
       "    <tr>\n",
       "      <th>5975095</th>\n",
       "      <td>1071867</td>\n",
       "      <td>chr9:138216261-138216461</td>\n",
       "      <td>CCCATGGCAGTGCGACAGCTGCTTCTTGGCAACTCCACCATGATCA...</td>\n",
       "      <td>1</td>\n",
       "      <td>2</td>\n",
       "    </tr>\n",
       "    <tr>\n",
       "      <th>5975096</th>\n",
       "      <td>1071868</td>\n",
       "      <td>chr9:138216453-138216653</td>\n",
       "      <td>TGAATGTTGACAGCACAGGAATCAGGTCATACGGCCCTCCCATCTC...</td>\n",
       "      <td>1</td>\n",
       "      <td>2</td>\n",
       "    </tr>\n",
       "    <tr>\n",
       "      <th>5975097</th>\n",
       "      <td>1071869</td>\n",
       "      <td>chr9:138217346-138217546</td>\n",
       "      <td>AGATTCAGGGCCTGCCCAGGGGCAGAGTGCCCCCAGGACTCGCCCT...</td>\n",
       "      <td>1</td>\n",
       "      <td>2</td>\n",
       "    </tr>\n",
       "    <tr>\n",
       "      <th>5975098</th>\n",
       "      <td>1071870</td>\n",
       "      <td>chr9:138217346-138217546</td>\n",
       "      <td>AGATTCAGGGCCTGCCCAGGGGCAGAGTGCCCCCAGGACTCGCCCT...</td>\n",
       "      <td>1</td>\n",
       "      <td>2</td>\n",
       "    </tr>\n",
       "    <tr>\n",
       "      <th>5975099</th>\n",
       "      <td>1071871</td>\n",
       "      <td>chr9:138221825-138222025</td>\n",
       "      <td>GCTCTTAGGGTGGCCCCTAAGTGAGGCTCCTCAGTGGCTCCAGCTA...</td>\n",
       "      <td>1</td>\n",
       "      <td>2</td>\n",
       "    </tr>\n",
       "  </tbody>\n",
       "</table>\n",
       "<p>5975100 rows × 5 columns</p>\n",
       "</div>"
      ],
      "text/plain": [
       "         Unnamed: 0                         0  \\\n",
       "0                 0        chr1:783075-783275   \n",
       "1                 1        chr1:784760-784960   \n",
       "2                 2        chr1:785317-785517   \n",
       "3                 3        chr1:797292-797492   \n",
       "4                 4        chr1:803946-804146   \n",
       "...             ...                       ...   \n",
       "5975095     1071867  chr9:138216261-138216461   \n",
       "5975096     1071868  chr9:138216453-138216653   \n",
       "5975097     1071869  chr9:138217346-138217546   \n",
       "5975098     1071870  chr9:138217346-138217546   \n",
       "5975099     1071871  chr9:138221825-138222025   \n",
       "\n",
       "                                                         1  labels01  \\\n",
       "0        ACTTACATGACCGACATGGTATTTTTATTTGGCAGCGCTGCTCTAA...         0   \n",
       "1        GAAATGAGATATTTATGTAGTCTTAAGGTATCTTCTCACAAATTAT...         0   \n",
       "2        GGGTGACAGGGCATTATATCAGCCACTTATCAACAAACATTTCAGA...         0   \n",
       "3        ACTTTGCTCAATCTTCGCCTTTGGGTTCCTTTAGGTTTATAATGAA...         0   \n",
       "4        TTAGAGGTAACTTTGCTGAACTTGTGAAGAATGGTGTGCAAGGTCC...         0   \n",
       "...                                                    ...       ...   \n",
       "5975095  CCCATGGCAGTGCGACAGCTGCTTCTTGGCAACTCCACCATGATCA...         1   \n",
       "5975096  TGAATGTTGACAGCACAGGAATCAGGTCATACGGCCCTCCCATCTC...         1   \n",
       "5975097  AGATTCAGGGCCTGCCCAGGGGCAGAGTGCCCCCAGGACTCGCCCT...         1   \n",
       "5975098  AGATTCAGGGCCTGCCCAGGGGCAGAGTGCCCCCAGGACTCGCCCT...         1   \n",
       "5975099  GCTCTTAGGGTGGCCCCTAAGTGAGGCTCCTCAGTGGCTCCAGCTA...         1   \n",
       "\n",
       "         labels012  \n",
       "0                0  \n",
       "1                0  \n",
       "2                0  \n",
       "3                0  \n",
       "4                0  \n",
       "...            ...  \n",
       "5975095          2  \n",
       "5975096          2  \n",
       "5975097          2  \n",
       "5975098          2  \n",
       "5975099          2  \n",
       "\n",
       "[5975100 rows x 5 columns]"
      ]
     },
     "execution_count": 7,
     "metadata": {},
     "output_type": "execute_result"
    }
   ],
   "source": [
    "df = pd.read_csv('/home/ndo/bash_output/data_labels/varscan_labels.csv', sep=\",\", encoding='utf-8')\n",
    "df"
   ]
  },
  {
   "cell_type": "code",
   "execution_count": 14,
   "id": "57bdbaa1-02a9-4a1a-bdca-9764a6ff1ee7",
   "metadata": {
    "tags": []
   },
   "outputs": [],
   "source": [
    "labels01= df['labels01'].astype('int')"
   ]
  },
  {
   "cell_type": "code",
   "execution_count": 15,
   "id": "7598491d-db5b-4b31-8fbb-97557f301103",
   "metadata": {
    "tags": []
   },
   "outputs": [
    {
     "data": {
      "text/plain": [
       "0          0\n",
       "1          0\n",
       "2          0\n",
       "3          0\n",
       "4          0\n",
       "          ..\n",
       "5975095    1\n",
       "5975096    1\n",
       "5975097    1\n",
       "5975098    1\n",
       "5975099    1\n",
       "Name: labels01, Length: 5975100, dtype: int64"
      ]
     },
     "execution_count": 15,
     "metadata": {},
     "output_type": "execute_result"
    }
   ],
   "source": [
    "labels01"
   ]
  },
  {
   "cell_type": "code",
   "execution_count": 13,
   "id": "a06b8943",
   "metadata": {},
   "outputs": [
    {
     "data": {
      "text/plain": [
       "0          ACTTACATGACCGACATGGTATTTTTATTTGGCAGCGCTGCTCTAA...\n",
       "1          GAAATGAGATATTTATGTAGTCTTAAGGTATCTTCTCACAAATTAT...\n",
       "2          GGGTGACAGGGCATTATATCAGCCACTTATCAACAAACATTTCAGA...\n",
       "3          ACTTTGCTCAATCTTCGCCTTTGGGTTCCTTTAGGTTTATAATGAA...\n",
       "4          TTAGAGGTAACTTTGCTGAACTTGTGAAGAATGGTGTGCAAGGTCC...\n",
       "                                 ...                        \n",
       "5975095    CCCATGGCAGTGCGACAGCTGCTTCTTGGCAACTCCACCATGATCA...\n",
       "5975096    TGAATGTTGACAGCACAGGAATCAGGTCATACGGCCCTCCCATCTC...\n",
       "5975097    AGATTCAGGGCCTGCCCAGGGGCAGAGTGCCCCCAGGACTCGCCCT...\n",
       "5975098    AGATTCAGGGCCTGCCCAGGGGCAGAGTGCCCCCAGGACTCGCCCT...\n",
       "5975099    GCTCTTAGGGTGGCCCCTAAGTGAGGCTCCTCAGTGGCTCCAGCTA...\n",
       "Name: 1, Length: 5975100, dtype: object"
      ]
     },
     "execution_count": 13,
     "metadata": {},
     "output_type": "execute_result"
    }
   ],
   "source": [
    "flank=df['1']\n",
    "flank"
   ]
  },
  {
   "cell_type": "code",
   "execution_count": null,
   "id": "f47f862a",
   "metadata": {},
   "outputs": [],
   "source": []
  },
  {
   "cell_type": "code",
   "execution_count": 16,
   "id": "f26196c0-ac2d-475b-8930-5ee1f0984821",
   "metadata": {},
   "outputs": [
    {
     "name": "stdout",
     "output_type": "stream",
     "text": [
      "Training set size: 4780080\n",
      "Validation set size: 597510\n",
      "Test set size: 597510\n"
     ]
    }
   ],
   "source": [
    "from sklearn.model_selection import train_test_split\n",
    "\n",
    "# Assuming 'data' contains your dataset and 'labels' contain corresponding labels\n",
    "\n",
    "# Splitting the data into 80% training and 20% test/validation combined\n",
    "X_train, X_test_val, y_train, y_test_val = train_test_split(flank, labels01, test_size=0.2, random_state=42)\n",
    "\n",
    "# Splitting the test/validation data into 50% test and 50% validation\n",
    "X_test, X_val, y_test, y_val = train_test_split(X_test_val, y_test_val, test_size=0.5, random_state=42)\n",
    "\n",
    "print(\"Training set size:\", len(X_train))\n",
    "print(\"Validation set size:\", len(X_val))\n",
    "print(\"Test set size:\", len(X_test))"
   ]
  }
 ],
 "metadata": {
  "kernelspec": {
   "display_name": "Python 3",
   "language": "python",
   "name": "python3"
  },
  "language_info": {
   "codemirror_mode": {
    "name": "ipython",
    "version": 3
   },
   "file_extension": ".py",
   "mimetype": "text/x-python",
   "name": "python",
   "nbconvert_exporter": "python",
   "pygments_lexer": "ipython3",
   "version": "3.12.1"
  }
 },
 "nbformat": 4,
 "nbformat_minor": 5
}
